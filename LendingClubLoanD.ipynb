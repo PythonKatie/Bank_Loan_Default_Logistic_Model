{
 "cells": [
  {
   "cell_type": "code",
   "execution_count": 1,
   "metadata": {},
   "outputs": [
    {
     "name": "stdout",
     "output_type": "stream",
     "text": [
      "(4000, 151)\n"
     ]
    },
    {
     "data": {
      "text/html": [
       "<div>\n",
       "<style scoped>\n",
       "    .dataframe tbody tr th:only-of-type {\n",
       "        vertical-align: middle;\n",
       "    }\n",
       "\n",
       "    .dataframe tbody tr th {\n",
       "        vertical-align: top;\n",
       "    }\n",
       "\n",
       "    .dataframe thead th {\n",
       "        text-align: right;\n",
       "    }\n",
       "</style>\n",
       "<table border=\"1\" class=\"dataframe\">\n",
       "  <thead>\n",
       "    <tr style=\"text-align: right;\">\n",
       "      <th></th>\n",
       "      <th>id</th>\n",
       "      <th>member_id</th>\n",
       "      <th>loan_amnt</th>\n",
       "      <th>funded_amnt</th>\n",
       "      <th>funded_amnt_inv</th>\n",
       "      <th>term</th>\n",
       "      <th>int_rate</th>\n",
       "      <th>installment</th>\n",
       "      <th>grade</th>\n",
       "      <th>sub_grade</th>\n",
       "      <th>...</th>\n",
       "      <th>hardship_payoff_balance_amount</th>\n",
       "      <th>hardship_last_payment_amount</th>\n",
       "      <th>disbursement_method</th>\n",
       "      <th>debt_settlement_flag</th>\n",
       "      <th>debt_settlement_flag_date</th>\n",
       "      <th>settlement_status</th>\n",
       "      <th>settlement_date</th>\n",
       "      <th>settlement_amount</th>\n",
       "      <th>settlement_percentage</th>\n",
       "      <th>settlement_term</th>\n",
       "    </tr>\n",
       "  </thead>\n",
       "  <tbody>\n",
       "    <tr>\n",
       "      <th>0</th>\n",
       "      <td>68407277</td>\n",
       "      <td>NaN</td>\n",
       "      <td>3600</td>\n",
       "      <td>3600</td>\n",
       "      <td>3600</td>\n",
       "      <td>36 months</td>\n",
       "      <td>13.99</td>\n",
       "      <td>123.03</td>\n",
       "      <td>C</td>\n",
       "      <td>C4</td>\n",
       "      <td>...</td>\n",
       "      <td>NaN</td>\n",
       "      <td>NaN</td>\n",
       "      <td>Cash</td>\n",
       "      <td>N</td>\n",
       "      <td>NaN</td>\n",
       "      <td>NaN</td>\n",
       "      <td>NaN</td>\n",
       "      <td>NaN</td>\n",
       "      <td>NaN</td>\n",
       "      <td>NaN</td>\n",
       "    </tr>\n",
       "    <tr>\n",
       "      <th>1</th>\n",
       "      <td>68355089</td>\n",
       "      <td>NaN</td>\n",
       "      <td>24700</td>\n",
       "      <td>24700</td>\n",
       "      <td>24700</td>\n",
       "      <td>36 months</td>\n",
       "      <td>11.99</td>\n",
       "      <td>820.28</td>\n",
       "      <td>C</td>\n",
       "      <td>C1</td>\n",
       "      <td>...</td>\n",
       "      <td>NaN</td>\n",
       "      <td>NaN</td>\n",
       "      <td>Cash</td>\n",
       "      <td>N</td>\n",
       "      <td>NaN</td>\n",
       "      <td>NaN</td>\n",
       "      <td>NaN</td>\n",
       "      <td>NaN</td>\n",
       "      <td>NaN</td>\n",
       "      <td>NaN</td>\n",
       "    </tr>\n",
       "    <tr>\n",
       "      <th>2</th>\n",
       "      <td>68341763</td>\n",
       "      <td>NaN</td>\n",
       "      <td>20000</td>\n",
       "      <td>20000</td>\n",
       "      <td>20000</td>\n",
       "      <td>60 months</td>\n",
       "      <td>10.78</td>\n",
       "      <td>432.66</td>\n",
       "      <td>B</td>\n",
       "      <td>B4</td>\n",
       "      <td>...</td>\n",
       "      <td>NaN</td>\n",
       "      <td>NaN</td>\n",
       "      <td>Cash</td>\n",
       "      <td>N</td>\n",
       "      <td>NaN</td>\n",
       "      <td>NaN</td>\n",
       "      <td>NaN</td>\n",
       "      <td>NaN</td>\n",
       "      <td>NaN</td>\n",
       "      <td>NaN</td>\n",
       "    </tr>\n",
       "  </tbody>\n",
       "</table>\n",
       "<p>3 rows × 151 columns</p>\n",
       "</div>"
      ],
      "text/plain": [
       "         id  member_id  loan_amnt  funded_amnt  funded_amnt_inv        term  \\\n",
       "0  68407277        NaN       3600         3600             3600   36 months   \n",
       "1  68355089        NaN      24700        24700            24700   36 months   \n",
       "2  68341763        NaN      20000        20000            20000   60 months   \n",
       "\n",
       "   int_rate  installment grade sub_grade  ... hardship_payoff_balance_amount  \\\n",
       "0     13.99       123.03     C        C4  ...                            NaN   \n",
       "1     11.99       820.28     C        C1  ...                            NaN   \n",
       "2     10.78       432.66     B        B4  ...                            NaN   \n",
       "\n",
       "  hardship_last_payment_amount disbursement_method  debt_settlement_flag  \\\n",
       "0                          NaN                Cash                     N   \n",
       "1                          NaN                Cash                     N   \n",
       "2                          NaN                Cash                     N   \n",
       "\n",
       "  debt_settlement_flag_date settlement_status settlement_date  \\\n",
       "0                       NaN               NaN             NaN   \n",
       "1                       NaN               NaN             NaN   \n",
       "2                       NaN               NaN             NaN   \n",
       "\n",
       "  settlement_amount settlement_percentage settlement_term  \n",
       "0               NaN                   NaN             NaN  \n",
       "1               NaN                   NaN             NaN  \n",
       "2               NaN                   NaN             NaN  \n",
       "\n",
       "[3 rows x 151 columns]"
      ]
     },
     "execution_count": 1,
     "metadata": {},
     "output_type": "execute_result"
    }
   ],
   "source": [
    "##Lending Club Loan Default\n",
    "import pandas as pd\n",
    "import numpy as np\n",
    "import seaborn as sns\n",
    "import matplotlib.pyplot as plt\n",
    "import random\n",
    "from scipy import stats\n",
    "import statsmodels.api as sm\n",
    "\n",
    "from statsmodels.formula.api import ols\n",
    "from statsmodels.stats.outliers_influence import variance_inflation_factor\n",
    "from statsmodels.sandbox.regression.predstd import wls_prediction_std\n",
    "from statsmodels.stats.diagnostic import het_breuschpagan, het_white\n",
    "from statsmodels.compat import lzip\n",
    "\n",
    "from sklearn import linear_model as lm\n",
    "from sklearn.linear_model import LogisticRegression, SGDClassifier\n",
    "from sklearn.preprocessing import PolynomialFeatures, PowerTransformer, StandardScaler, Imputer\n",
    "\n",
    "from sklearn.svm import SVC, LinearSVC\n",
    "from sklearn.pipeline import Pipeline\n",
    "from sklearn.ensemble import RandomForestClassifier, AdaBoostClassifier, GradientBoostingClassifier, ExtraTreesClassifier, VotingClassifier\n",
    "from sklearn.discriminant_analysis import LinearDiscriminantAnalysis\n",
    "from sklearn.neighbors import KNeighborsClassifier\n",
    "from sklearn.naive_bayes import GaussianNB\n",
    "from sklearn.tree import DecisionTreeClassifier\n",
    "from sklearn.neural_network import MLPClassifier\n",
    "from scipy.stats import ks_2samp\n",
    "\n",
    "from sklearn.feature_selection import RFE, RFECV\n",
    "from sklearn.linear_model import LassoCV, Lasso\n",
    "from sklearn.model_selection import GridSearchCV, RandomizedSearchCV \n",
    "from sklearn.model_selection import cross_validate, cross_val_score, cross_val_predict, KFold, StratifiedKFold\n",
    "from sklearn.model_selection import train_test_split, learning_curve, ShuffleSplit\n",
    "\n",
    "from collections import Counter\n",
    "from sklearn import metrics, decomposition\n",
    "from sklearn.metrics import confusion_matrix, classification_report, roc_auc_score, roc_curve, auc\n",
    "from sklearn.metrics import precision_score, recall_score, f1_score, make_scorer, accuracy_score\n",
    "\n",
    "%matplotlib inline\n",
    "\n",
    "# ignore Deprecation Warning\n",
    "import warnings\n",
    "warnings.filterwarnings(\"ignore\") \n",
    "\n",
    "#pd.set_option('display.max_columns', None) # Display any number of columns\n",
    "\n",
    "# Load the data\n",
    "#df = pd.read_csv('Desktop\\\\Python\\\\LoanDefault\\\\LendingClubLarge.csv', low_memory=True)\n",
    "df = pd.read_csv('Desktop\\\\Python\\\\LoanDefault\\\\LendingClubLargeCV.csv', low_memory=True)\n",
    "\n",
    "print(df.shape)\n",
    "df.head(3)"
   ]
  },
  {
   "cell_type": "code",
   "execution_count": 2,
   "metadata": {},
   "outputs": [
    {
     "data": {
      "text/plain": [
       "id                               0\n",
       "loan_amnt                        0\n",
       "funded_amnt                      0\n",
       "funded_amnt_inv                  0\n",
       "term                             0\n",
       "int_rate                         0\n",
       "installment                      0\n",
       "grade                            0\n",
       "sub_grade                        0\n",
       "emp_title                      189\n",
       "emp_length                     187\n",
       "home_ownership                   0\n",
       "annual_inc                       0\n",
       "verification_status              0\n",
       "issue_d                          0\n",
       "loan_status                      0\n",
       "pymnt_plan                       0\n",
       "url                              0\n",
       "purpose                          0\n",
       "title                           93\n",
       "zip_code                         0\n",
       "addr_state                       0\n",
       "dti                              0\n",
       "delinq_2yrs                      0\n",
       "earliest_cr_line                 0\n",
       "fico_range_low                   0\n",
       "fico_range_high                  0\n",
       "inq_last_6mths                   0\n",
       "mths_since_last_delinq        1948\n",
       "open_acc                         0\n",
       "                              ... \n",
       "mo_sin_rcnt_rev_tl_op            0\n",
       "mo_sin_rcnt_tl                   0\n",
       "mort_acc                         0\n",
       "mths_since_recent_bc            42\n",
       "mths_since_recent_inq          441\n",
       "num_accts_ever_120_pd            0\n",
       "num_actv_bc_tl                   0\n",
       "num_actv_rev_tl                  0\n",
       "num_bc_sats                      0\n",
       "num_bc_tl                        0\n",
       "num_il_tl                        0\n",
       "num_op_rev_tl                    0\n",
       "num_rev_accts                    0\n",
       "num_rev_tl_bal_gt_0              0\n",
       "num_sats                         0\n",
       "num_tl_120dpd_2m               348\n",
       "num_tl_30dpd                     0\n",
       "num_tl_90g_dpd_24m               0\n",
       "num_tl_op_past_12m               0\n",
       "pct_tl_nvr_dlq                   0\n",
       "percent_bc_gt_75                47\n",
       "pub_rec_bankruptcies             0\n",
       "tax_liens                        0\n",
       "tot_hi_cred_lim                  0\n",
       "total_bal_ex_mort                0\n",
       "total_bc_limit                   0\n",
       "total_il_high_credit_limit       0\n",
       "hardship_flag                    0\n",
       "disbursement_method              0\n",
       "debt_settlement_flag             0\n",
       "Length: 108, dtype: int64"
      ]
     },
     "execution_count": 2,
     "metadata": {},
     "output_type": "execute_result"
    }
   ],
   "source": [
    "# Remove columns where 50% of values are null\n",
    "fifty_perc = len(df)/2\n",
    "df = df.dropna(thresh=fifty_perc, axis=1)\n",
    "df.shape\n",
    "df.isnull().sum()"
   ]
  },
  {
   "cell_type": "code",
   "execution_count": 3,
   "metadata": {},
   "outputs": [
    {
     "data": {
      "text/html": [
       "<div>\n",
       "<style scoped>\n",
       "    .dataframe tbody tr th:only-of-type {\n",
       "        vertical-align: middle;\n",
       "    }\n",
       "\n",
       "    .dataframe tbody tr th {\n",
       "        vertical-align: top;\n",
       "    }\n",
       "\n",
       "    .dataframe thead th {\n",
       "        text-align: right;\n",
       "    }\n",
       "</style>\n",
       "<table border=\"1\" class=\"dataframe\">\n",
       "  <thead>\n",
       "    <tr style=\"text-align: right;\">\n",
       "      <th></th>\n",
       "      <th>loan_amnt</th>\n",
       "      <th>term</th>\n",
       "      <th>int_rate</th>\n",
       "      <th>installment</th>\n",
       "      <th>grade</th>\n",
       "      <th>emp_length</th>\n",
       "      <th>home_ownership</th>\n",
       "      <th>annual_inc</th>\n",
       "      <th>verification_status</th>\n",
       "      <th>loan_status</th>\n",
       "      <th>...</th>\n",
       "      <th>open_acc</th>\n",
       "      <th>revol_bal</th>\n",
       "      <th>revol_util</th>\n",
       "      <th>total_acc</th>\n",
       "      <th>initial_list_status</th>\n",
       "      <th>application_type</th>\n",
       "      <th>mo_sin_old_il_acct</th>\n",
       "      <th>mo_sin_old_rev_tl_op</th>\n",
       "      <th>mort_acc</th>\n",
       "      <th>pub_rec_bankruptcies</th>\n",
       "    </tr>\n",
       "  </thead>\n",
       "  <tbody>\n",
       "    <tr>\n",
       "      <th>0</th>\n",
       "      <td>3600</td>\n",
       "      <td>36 months</td>\n",
       "      <td>13.99</td>\n",
       "      <td>123.03</td>\n",
       "      <td>C</td>\n",
       "      <td>10+ years</td>\n",
       "      <td>MORTGAGE</td>\n",
       "      <td>55000.0</td>\n",
       "      <td>Not Verified</td>\n",
       "      <td>Fully Paid</td>\n",
       "      <td>...</td>\n",
       "      <td>7</td>\n",
       "      <td>2765</td>\n",
       "      <td>29.7</td>\n",
       "      <td>13</td>\n",
       "      <td>w</td>\n",
       "      <td>Individual</td>\n",
       "      <td>148.0</td>\n",
       "      <td>128</td>\n",
       "      <td>1</td>\n",
       "      <td>0</td>\n",
       "    </tr>\n",
       "    <tr>\n",
       "      <th>1</th>\n",
       "      <td>24700</td>\n",
       "      <td>36 months</td>\n",
       "      <td>11.99</td>\n",
       "      <td>820.28</td>\n",
       "      <td>C</td>\n",
       "      <td>10+ years</td>\n",
       "      <td>MORTGAGE</td>\n",
       "      <td>65000.0</td>\n",
       "      <td>Not Verified</td>\n",
       "      <td>Fully Paid</td>\n",
       "      <td>...</td>\n",
       "      <td>22</td>\n",
       "      <td>21470</td>\n",
       "      <td>19.2</td>\n",
       "      <td>38</td>\n",
       "      <td>w</td>\n",
       "      <td>Individual</td>\n",
       "      <td>113.0</td>\n",
       "      <td>192</td>\n",
       "      <td>4</td>\n",
       "      <td>0</td>\n",
       "    </tr>\n",
       "    <tr>\n",
       "      <th>2</th>\n",
       "      <td>20000</td>\n",
       "      <td>60 months</td>\n",
       "      <td>10.78</td>\n",
       "      <td>432.66</td>\n",
       "      <td>B</td>\n",
       "      <td>10+ years</td>\n",
       "      <td>MORTGAGE</td>\n",
       "      <td>63000.0</td>\n",
       "      <td>Not Verified</td>\n",
       "      <td>Fully Paid</td>\n",
       "      <td>...</td>\n",
       "      <td>6</td>\n",
       "      <td>7869</td>\n",
       "      <td>56.2</td>\n",
       "      <td>18</td>\n",
       "      <td>w</td>\n",
       "      <td>Joint App</td>\n",
       "      <td>125.0</td>\n",
       "      <td>184</td>\n",
       "      <td>5</td>\n",
       "      <td>0</td>\n",
       "    </tr>\n",
       "  </tbody>\n",
       "</table>\n",
       "<p>3 rows × 26 columns</p>\n",
       "</div>"
      ],
      "text/plain": [
       "   loan_amnt        term  int_rate  installment grade emp_length  \\\n",
       "0       3600   36 months     13.99       123.03     C  10+ years   \n",
       "1      24700   36 months     11.99       820.28     C  10+ years   \n",
       "2      20000   60 months     10.78       432.66     B  10+ years   \n",
       "\n",
       "  home_ownership  annual_inc verification_status loan_status  ... open_acc  \\\n",
       "0       MORTGAGE     55000.0        Not Verified  Fully Paid  ...        7   \n",
       "1       MORTGAGE     65000.0        Not Verified  Fully Paid  ...       22   \n",
       "2       MORTGAGE     63000.0        Not Verified  Fully Paid  ...        6   \n",
       "\n",
       "  revol_bal  revol_util  total_acc  initial_list_status  application_type  \\\n",
       "0      2765        29.7         13                    w        Individual   \n",
       "1     21470        19.2         38                    w        Individual   \n",
       "2      7869        56.2         18                    w         Joint App   \n",
       "\n",
       "   mo_sin_old_il_acct  mo_sin_old_rev_tl_op  mort_acc  pub_rec_bankruptcies  \n",
       "0               148.0                   128         1                     0  \n",
       "1               113.0                   192         4                     0  \n",
       "2               125.0                   184         5                     0  \n",
       "\n",
       "[3 rows x 26 columns]"
      ]
     },
     "execution_count": 3,
     "metadata": {},
     "output_type": "execute_result"
    }
   ],
   "source": [
    "# Drop columns which are not necessary for our loan default prediction\n",
    "drop_columns = ['id', 'emp_title', 'issue_d', 'policy_code', 'title', 'zip_code', 'acc_now_delinq', 'acc_open_past_24mths', \n",
    "               'all_util', 'avg_cur_bal', 'bc_open_to_buy', 'bc_util', 'chargeoff_within_12_mths',\n",
    "             'collection_recovery_fee', 'collections_12_mths_ex_med', 'debt_settlement_flag', 'delinq_2yrs', 'delinq_amnt', \n",
    "             'disbursement_method', 'funded_amnt', 'funded_amnt_inv', 'hardship_flag', 'il_util', 'inq_fi', 'inq_last_12m', 'inq_last_6mths',\n",
    "             'last_credit_pull_d', 'last_fico_range_high', 'last_fico_range_low', 'last_pymnt_amnt', 'last_pymnt_d', 'max_bal_bc', \n",
    "             'mo_sin_rcnt_rev_tl_op', 'mo_sin_rcnt_tl', 'mths_since_rcnt_il', 'mths_since_recent_bc', 'mths_since_recent_inq', \n",
    "             'num_accts_ever_120_pd', 'num_actv_bc_tl', 'num_actv_rev_tl', 'num_bc_sats', 'num_bc_tl', 'num_il_tl', 'num_op_rev_tl', \n",
    "             'num_rev_accts', 'num_rev_tl_bal_gt_0', 'num_sats', 'num_tl_120dpd_2m', 'num_tl_30dpd', 'num_tl_90g_dpd_24m', \n",
    "             'num_tl_op_past_12m', 'open_acc_6m', 'open_act_il', 'open_il_12m', 'open_il_24m', 'open_rv_12m', 'open_rv_24m', 'out_prncp', \n",
    "             'out_prncp_inv', 'pct_tl_nvr_dlq', 'percent_bc_gt_75', 'pymnt_plan', 'recoveries', 'tax_liens', 'tot_coll_amt', 'tot_cur_bal', \n",
    "             'tot_hi_cred_lim', 'total_bal_ex_mort', 'total_bal_il', 'total_bc_limit', 'total_cu_tl', 'total_il_high_credit_limit', \n",
    "             'total_pymnt', 'total_pymnt_inv', 'total_rec_int', 'total_rec_late_fee', 'total_rec_prncp', 'total_rev_hi_lim', \n",
    "                'url', 'sub_grade', 'pub_rec', 'earliest_cr_line']\n",
    "\n",
    "df = df.drop(drop_columns, axis=1)\n",
    "df.head(3)"
   ]
  },
  {
   "cell_type": "markdown",
   "metadata": {},
   "source": []
  },
  {
   "cell_type": "code",
   "execution_count": 4,
   "metadata": {},
   "outputs": [
    {
     "data": {
      "text/plain": [
       "(4000, 26)"
      ]
     },
     "execution_count": 4,
     "metadata": {},
     "output_type": "execute_result"
    }
   ],
   "source": [
    "# Let take a look at the values in our target variable loan_status\n",
    "df['loan_status'].value_counts()\n",
    "df.shape"
   ]
  },
  {
   "cell_type": "code",
   "execution_count": 5,
   "metadata": {},
   "outputs": [
    {
     "data": {
      "text/plain": [
       "(3550, 26)"
      ]
     },
     "execution_count": 5,
     "metadata": {},
     "output_type": "execute_result"
    }
   ],
   "source": [
    "# We will remove rows that have values other than Charged Off and Fully Paid as those are not relevant to our analysis\n",
    "df = df.loc[df['loan_status'].isin(['Fully Paid', 'Charged Off'])]\n",
    "df.shape"
   ]
  },
  {
   "cell_type": "code",
   "execution_count": 6,
   "metadata": {},
   "outputs": [
    {
     "data": {
      "text/plain": [
       "Index(['loan_amnt', 'term', 'int_rate', 'installment', 'grade', 'emp_length',\n",
       "       'home_ownership', 'annual_inc', 'verification_status', 'loan_status',\n",
       "       'purpose', 'addr_state', 'dti', 'fico_range_low', 'fico_range_high',\n",
       "       'mths_since_last_delinq', 'open_acc', 'revol_bal', 'revol_util',\n",
       "       'total_acc', 'initial_list_status', 'application_type',\n",
       "       'mo_sin_old_il_acct', 'mo_sin_old_rev_tl_op', 'mort_acc',\n",
       "       'pub_rec_bankruptcies'],\n",
       "      dtype='object')"
      ]
     },
     "execution_count": 6,
     "metadata": {},
     "output_type": "execute_result"
    }
   ],
   "source": [
    "df['loan_status'] = df['loan_status'].apply(lambda s: np.int(s == 'Charged Off')) # Converts target to boolean\n",
    "# The below code does the same as a above but a longer code though easier to understand\n",
    "#target_bool = df[(df[\"loan_status\"]=='Fully Paid') | (df[\"loan_status\"] == \"Charged Off\")]\n",
    "#di = {\"Fully Paid\": 0, \"Charged Off\":1} #converting target variable to boolean\n",
    "#df = target_bool.replace({\"loan_status\": di})\n",
    "#df.loan_status.head(25)\n",
    "df.columns"
   ]
  },
  {
   "cell_type": "code",
   "execution_count": 7,
   "metadata": {},
   "outputs": [],
   "source": [
    "mapping_dict = {\"10+ years\": 10, \"9 years\": 9, \"8 years\": 8, \"7 years\": 7, \"6 years\": 6, \"5 years\": 5, \"4 years\": 4,\n",
    "                \"3 years\": 3, \"2 years\": 2, \"1 year\": 1, \"< 1 year\": 0, \"n/a\": 0}\n",
    "df[\"emp_length\"] = df[\"emp_length\"].replace(mapping_dict)\n",
    "#df[\"emp_length\"] = df[\"emp_length\"].apply(lambda x:float(x))\n",
    "\n",
    "# mapping_dict\n",
    "# Data encoding\n",
    "#Final_data['grade'] = Final_data['grade'].map({'A':7,'B':6,'C':5,'D':4,'E':3,'F':2,'G':1})\n",
    "#Final_data[\"home_ownership\"] = Final_data[\"home_ownership\"].map({\"MORTGAGE\":6,\"RENT\":5,\"OWN\":4,\"OTHER\":3,\"NONE\":2,\"ANY\":1})\n",
    "\n",
    "#print(\"Current shape of dataset :\", Final_data.shape)\n",
    "#Final_data.head(15)"
   ]
  },
  {
   "cell_type": "code",
   "execution_count": 8,
   "metadata": {},
   "outputs": [
    {
     "data": {
      "text/plain": [
       "10    1195\n",
       "0      350\n",
       "2      314\n",
       "3      312\n",
       "4      216\n",
       "1      215\n",
       "5      209\n",
       "8      184\n",
       "6      144\n",
       "9      123\n",
       "7      116\n",
       "Name: emp_length, dtype: int64"
      ]
     },
     "execution_count": 8,
     "metadata": {},
     "output_type": "execute_result"
    }
   ],
   "source": [
    "df[\"emp_length\"].value_counts()"
   ]
  },
  {
   "cell_type": "code",
   "execution_count": 9,
   "metadata": {},
   "outputs": [
    {
     "data": {
      "text/plain": [
       "loan_amnt                    0\n",
       "term                         0\n",
       "int_rate                     0\n",
       "installment                  0\n",
       "grade                        0\n",
       "emp_length                 172\n",
       "home_ownership               0\n",
       "annual_inc                   0\n",
       "verification_status          0\n",
       "loan_status                  0\n",
       "purpose                      0\n",
       "addr_state                   0\n",
       "dti                          0\n",
       "fico_range_low               0\n",
       "fico_range_high              0\n",
       "mths_since_last_delinq    1720\n",
       "open_acc                     0\n",
       "revol_bal                    0\n",
       "revol_util                   2\n",
       "total_acc                    0\n",
       "initial_list_status          0\n",
       "application_type             0\n",
       "mo_sin_old_il_acct          85\n",
       "mo_sin_old_rev_tl_op         0\n",
       "mort_acc                     0\n",
       "pub_rec_bankruptcies         0\n",
       "dtype: int64"
      ]
     },
     "execution_count": 9,
     "metadata": {},
     "output_type": "execute_result"
    }
   ],
   "source": [
    "df.isnull().sum()"
   ]
  },
  {
   "cell_type": "code",
   "execution_count": 10,
   "metadata": {},
   "outputs": [
    {
     "data": {
      "text/plain": [
       "loan_amnt                 0\n",
       "term                      0\n",
       "int_rate                  0\n",
       "installment               0\n",
       "grade                     0\n",
       "emp_length                0\n",
       "home_ownership            0\n",
       "annual_inc                0\n",
       "verification_status       0\n",
       "loan_status               0\n",
       "purpose                   0\n",
       "addr_state                0\n",
       "dti                       0\n",
       "fico_range_low            0\n",
       "fico_range_high           0\n",
       "mths_since_last_delinq    0\n",
       "open_acc                  0\n",
       "revol_bal                 0\n",
       "revol_util                0\n",
       "total_acc                 0\n",
       "initial_list_status       0\n",
       "application_type          0\n",
       "mo_sin_old_il_acct        0\n",
       "mo_sin_old_rev_tl_op      0\n",
       "mort_acc                  0\n",
       "pub_rec_bankruptcies      0\n",
       "dtype: int64"
      ]
     },
     "execution_count": 10,
     "metadata": {},
     "output_type": "execute_result"
    }
   ],
   "source": [
    "# Filling Missing values\n",
    "#df.fillna(df.mean(), inplace = True)\n",
    "df.dti.fillna(df.dti.mean(), inplace = True)\n",
    "df.revol_util.fillna(df.revol_util.mean(), inplace = True)\n",
    "df.emp_length.fillna(df.emp_length.mean(), inplace = True)\n",
    "df.mo_sin_old_il_acct.fillna(df.mo_sin_old_il_acct.mean(), inplace = True)\n",
    "df.mths_since_last_delinq.fillna(df.mths_since_last_delinq.mean(), inplace=True)\n",
    "df.isnull().sum()"
   ]
  },
  {
   "cell_type": "code",
   "execution_count": 11,
   "metadata": {},
   "outputs": [
    {
     "data": {
      "text/html": [
       "<div>\n",
       "<style scoped>\n",
       "    .dataframe tbody tr th:only-of-type {\n",
       "        vertical-align: middle;\n",
       "    }\n",
       "\n",
       "    .dataframe tbody tr th {\n",
       "        vertical-align: top;\n",
       "    }\n",
       "\n",
       "    .dataframe thead th {\n",
       "        text-align: right;\n",
       "    }\n",
       "</style>\n",
       "<table border=\"1\" class=\"dataframe\">\n",
       "  <thead>\n",
       "    <tr style=\"text-align: right;\">\n",
       "      <th></th>\n",
       "      <th>loan_amnt</th>\n",
       "      <th>term</th>\n",
       "      <th>int_rate</th>\n",
       "      <th>installment</th>\n",
       "      <th>grade</th>\n",
       "      <th>emp_length</th>\n",
       "      <th>home_ownership</th>\n",
       "      <th>annual_inc</th>\n",
       "      <th>verification_status</th>\n",
       "      <th>loan_status</th>\n",
       "      <th>...</th>\n",
       "      <th>open_acc</th>\n",
       "      <th>revol_bal</th>\n",
       "      <th>revol_util</th>\n",
       "      <th>total_acc</th>\n",
       "      <th>initial_list_status</th>\n",
       "      <th>application_type</th>\n",
       "      <th>mo_sin_old_il_acct</th>\n",
       "      <th>mo_sin_old_rev_tl_op</th>\n",
       "      <th>mort_acc</th>\n",
       "      <th>pub_rec_bankruptcies</th>\n",
       "    </tr>\n",
       "  </thead>\n",
       "  <tbody>\n",
       "    <tr>\n",
       "      <th>0</th>\n",
       "      <td>3600</td>\n",
       "      <td>36</td>\n",
       "      <td>13.99</td>\n",
       "      <td>123.03</td>\n",
       "      <td>C</td>\n",
       "      <td>10</td>\n",
       "      <td>MORTGAGE</td>\n",
       "      <td>55000.0</td>\n",
       "      <td>Not Verified</td>\n",
       "      <td>0</td>\n",
       "      <td>...</td>\n",
       "      <td>7</td>\n",
       "      <td>2765</td>\n",
       "      <td>29.7</td>\n",
       "      <td>13</td>\n",
       "      <td>w</td>\n",
       "      <td>Individual</td>\n",
       "      <td>148.0</td>\n",
       "      <td>128</td>\n",
       "      <td>1</td>\n",
       "      <td>0</td>\n",
       "    </tr>\n",
       "    <tr>\n",
       "      <th>1</th>\n",
       "      <td>24700</td>\n",
       "      <td>36</td>\n",
       "      <td>11.99</td>\n",
       "      <td>820.28</td>\n",
       "      <td>C</td>\n",
       "      <td>10</td>\n",
       "      <td>MORTGAGE</td>\n",
       "      <td>65000.0</td>\n",
       "      <td>Not Verified</td>\n",
       "      <td>0</td>\n",
       "      <td>...</td>\n",
       "      <td>22</td>\n",
       "      <td>21470</td>\n",
       "      <td>19.2</td>\n",
       "      <td>38</td>\n",
       "      <td>w</td>\n",
       "      <td>Individual</td>\n",
       "      <td>113.0</td>\n",
       "      <td>192</td>\n",
       "      <td>4</td>\n",
       "      <td>0</td>\n",
       "    </tr>\n",
       "    <tr>\n",
       "      <th>2</th>\n",
       "      <td>20000</td>\n",
       "      <td>60</td>\n",
       "      <td>10.78</td>\n",
       "      <td>432.66</td>\n",
       "      <td>B</td>\n",
       "      <td>10</td>\n",
       "      <td>MORTGAGE</td>\n",
       "      <td>63000.0</td>\n",
       "      <td>Not Verified</td>\n",
       "      <td>0</td>\n",
       "      <td>...</td>\n",
       "      <td>6</td>\n",
       "      <td>7869</td>\n",
       "      <td>56.2</td>\n",
       "      <td>18</td>\n",
       "      <td>w</td>\n",
       "      <td>Joint App</td>\n",
       "      <td>125.0</td>\n",
       "      <td>184</td>\n",
       "      <td>5</td>\n",
       "      <td>0</td>\n",
       "    </tr>\n",
       "    <tr>\n",
       "      <th>4</th>\n",
       "      <td>10400</td>\n",
       "      <td>60</td>\n",
       "      <td>22.45</td>\n",
       "      <td>289.91</td>\n",
       "      <td>F</td>\n",
       "      <td>3</td>\n",
       "      <td>MORTGAGE</td>\n",
       "      <td>104433.0</td>\n",
       "      <td>Source Verified</td>\n",
       "      <td>0</td>\n",
       "      <td>...</td>\n",
       "      <td>12</td>\n",
       "      <td>21929</td>\n",
       "      <td>64.5</td>\n",
       "      <td>35</td>\n",
       "      <td>w</td>\n",
       "      <td>Individual</td>\n",
       "      <td>128.0</td>\n",
       "      <td>210</td>\n",
       "      <td>6</td>\n",
       "      <td>0</td>\n",
       "    </tr>\n",
       "    <tr>\n",
       "      <th>5</th>\n",
       "      <td>11950</td>\n",
       "      <td>36</td>\n",
       "      <td>13.44</td>\n",
       "      <td>405.18</td>\n",
       "      <td>C</td>\n",
       "      <td>4</td>\n",
       "      <td>RENT</td>\n",
       "      <td>34000.0</td>\n",
       "      <td>Source Verified</td>\n",
       "      <td>0</td>\n",
       "      <td>...</td>\n",
       "      <td>5</td>\n",
       "      <td>8822</td>\n",
       "      <td>68.4</td>\n",
       "      <td>6</td>\n",
       "      <td>w</td>\n",
       "      <td>Individual</td>\n",
       "      <td>338.0</td>\n",
       "      <td>54</td>\n",
       "      <td>0</td>\n",
       "      <td>0</td>\n",
       "    </tr>\n",
       "  </tbody>\n",
       "</table>\n",
       "<p>5 rows × 26 columns</p>\n",
       "</div>"
      ],
      "text/plain": [
       "   loan_amnt  term  int_rate  installment grade  emp_length home_ownership  \\\n",
       "0       3600    36     13.99       123.03     C          10       MORTGAGE   \n",
       "1      24700    36     11.99       820.28     C          10       MORTGAGE   \n",
       "2      20000    60     10.78       432.66     B          10       MORTGAGE   \n",
       "4      10400    60     22.45       289.91     F           3       MORTGAGE   \n",
       "5      11950    36     13.44       405.18     C           4           RENT   \n",
       "\n",
       "   annual_inc verification_status  loan_status  ... open_acc revol_bal  \\\n",
       "0     55000.0        Not Verified            0  ...        7      2765   \n",
       "1     65000.0        Not Verified            0  ...       22     21470   \n",
       "2     63000.0        Not Verified            0  ...        6      7869   \n",
       "4    104433.0     Source Verified            0  ...       12     21929   \n",
       "5     34000.0     Source Verified            0  ...        5      8822   \n",
       "\n",
       "   revol_util  total_acc  initial_list_status  application_type  \\\n",
       "0        29.7         13                    w        Individual   \n",
       "1        19.2         38                    w        Individual   \n",
       "2        56.2         18                    w         Joint App   \n",
       "4        64.5         35                    w        Individual   \n",
       "5        68.4          6                    w        Individual   \n",
       "\n",
       "   mo_sin_old_il_acct  mo_sin_old_rev_tl_op  mort_acc  pub_rec_bankruptcies  \n",
       "0               148.0                   128         1                     0  \n",
       "1               113.0                   192         4                     0  \n",
       "2               125.0                   184         5                     0  \n",
       "4               128.0                   210         6                     0  \n",
       "5               338.0                    54         0                     0  \n",
       "\n",
       "[5 rows x 26 columns]"
      ]
     },
     "execution_count": 11,
     "metadata": {},
     "output_type": "execute_result"
    }
   ],
   "source": [
    "df[\"emp_length\"] = df[\"emp_length\"].apply(lambda x:int(x))\n",
    "df['term'] = df['term'].apply(lambda s: np.int8(s.split()[0]))  # Convert 36 months and 60 months to integers only 36 and 60\n",
    "df_new = df\n",
    "df.head()"
   ]
  },
  {
   "cell_type": "code",
   "execution_count": 12,
   "metadata": {},
   "outputs": [],
   "source": [
    "continuous_X = ['loan_amnt', 'term', 'int_rate', 'installment', 'emp_length', 'annual_inc', 'dti', 'fico_range_low', 'fico_range_high',\n",
    "                'open_acc', 'revol_bal', 'revol_util', 'total_acc', 'mo_sin_old_il_acct', 'mo_sin_old_rev_tl_op', 'mort_acc', 'pub_rec_bankruptcies']\n",
    "\n",
    "categorical_X = ['grade','home_ownership','verification_status','purpose','addr_state','initial_list_status','application_type']"
   ]
  },
  {
   "cell_type": "code",
   "execution_count": 13,
   "metadata": {},
   "outputs": [
    {
     "data": {
      "text/html": [
       "<div>\n",
       "<style scoped>\n",
       "    .dataframe tbody tr th:only-of-type {\n",
       "        vertical-align: middle;\n",
       "    }\n",
       "\n",
       "    .dataframe tbody tr th {\n",
       "        vertical-align: top;\n",
       "    }\n",
       "\n",
       "    .dataframe thead th {\n",
       "        text-align: right;\n",
       "    }\n",
       "</style>\n",
       "<table border=\"1\" class=\"dataframe\">\n",
       "  <thead>\n",
       "    <tr style=\"text-align: right;\">\n",
       "      <th></th>\n",
       "      <th>loan_amnt</th>\n",
       "      <th>term</th>\n",
       "      <th>int_rate</th>\n",
       "      <th>installment</th>\n",
       "      <th>emp_length</th>\n",
       "      <th>annual_inc</th>\n",
       "      <th>dti</th>\n",
       "      <th>fico_range_low</th>\n",
       "      <th>fico_range_high</th>\n",
       "      <th>open_acc</th>\n",
       "      <th>revol_bal</th>\n",
       "      <th>revol_util</th>\n",
       "      <th>total_acc</th>\n",
       "      <th>mo_sin_old_il_acct</th>\n",
       "      <th>mo_sin_old_rev_tl_op</th>\n",
       "      <th>mort_acc</th>\n",
       "      <th>pub_rec_bankruptcies</th>\n",
       "    </tr>\n",
       "  </thead>\n",
       "  <tbody>\n",
       "    <tr>\n",
       "      <th>0</th>\n",
       "      <td>-1.293344</td>\n",
       "      <td>-0.520173</td>\n",
       "      <td>0.456392</td>\n",
       "      <td>-1.253879</td>\n",
       "      <td>1.129166</td>\n",
       "      <td>-0.511535</td>\n",
       "      <td>-1.535640</td>\n",
       "      <td>-0.664201</td>\n",
       "      <td>-0.664183</td>\n",
       "      <td>-0.906235</td>\n",
       "      <td>-0.656203</td>\n",
       "      <td>-0.874144</td>\n",
       "      <td>-1.072431</td>\n",
       "      <td>0.396714</td>\n",
       "      <td>-0.630426</td>\n",
       "      <td>-0.379289</td>\n",
       "      <td>-0.347789</td>\n",
       "    </tr>\n",
       "    <tr>\n",
       "      <th>1</th>\n",
       "      <td>1.177972</td>\n",
       "      <td>-0.520173</td>\n",
       "      <td>-0.005972</td>\n",
       "      <td>1.488281</td>\n",
       "      <td>1.129166</td>\n",
       "      <td>-0.304194</td>\n",
       "      <td>-0.361614</td>\n",
       "      <td>0.584859</td>\n",
       "      <td>0.584827</td>\n",
       "      <td>1.583678</td>\n",
       "      <td>0.177796</td>\n",
       "      <td>-1.315136</td>\n",
       "      <td>0.934363</td>\n",
       "      <td>-0.297686</td>\n",
       "      <td>0.041804</td>\n",
       "      <td>1.130777</td>\n",
       "      <td>-0.347789</td>\n",
       "    </tr>\n",
       "    <tr>\n",
       "      <th>2</th>\n",
       "      <td>0.627489</td>\n",
       "      <td>1.922438</td>\n",
       "      <td>-0.285703</td>\n",
       "      <td>-0.036160</td>\n",
       "      <td>1.129166</td>\n",
       "      <td>-0.345662</td>\n",
       "      <td>-0.972339</td>\n",
       "      <td>-0.039671</td>\n",
       "      <td>-0.039678</td>\n",
       "      <td>-1.072229</td>\n",
       "      <td>-0.428631</td>\n",
       "      <td>0.238836</td>\n",
       "      <td>-0.671072</td>\n",
       "      <td>-0.059606</td>\n",
       "      <td>-0.042224</td>\n",
       "      <td>1.634132</td>\n",
       "      <td>-0.347789</td>\n",
       "    </tr>\n",
       "  </tbody>\n",
       "</table>\n",
       "</div>"
      ],
      "text/plain": [
       "   loan_amnt      term  int_rate  installment  emp_length  annual_inc  \\\n",
       "0  -1.293344 -0.520173  0.456392    -1.253879    1.129166   -0.511535   \n",
       "1   1.177972 -0.520173 -0.005972     1.488281    1.129166   -0.304194   \n",
       "2   0.627489  1.922438 -0.285703    -0.036160    1.129166   -0.345662   \n",
       "\n",
       "        dti  fico_range_low  fico_range_high  open_acc  revol_bal  revol_util  \\\n",
       "0 -1.535640       -0.664201        -0.664183 -0.906235  -0.656203   -0.874144   \n",
       "1 -0.361614        0.584859         0.584827  1.583678   0.177796   -1.315136   \n",
       "2 -0.972339       -0.039671        -0.039678 -1.072229  -0.428631    0.238836   \n",
       "\n",
       "   total_acc  mo_sin_old_il_acct  mo_sin_old_rev_tl_op  mort_acc  \\\n",
       "0  -1.072431            0.396714             -0.630426 -0.379289   \n",
       "1   0.934363           -0.297686              0.041804  1.130777   \n",
       "2  -0.671072           -0.059606             -0.042224  1.634132   \n",
       "\n",
       "   pub_rec_bankruptcies  \n",
       "0             -0.347789  \n",
       "1             -0.347789  \n",
       "2             -0.347789  "
      ]
     },
     "execution_count": 13,
     "metadata": {},
     "output_type": "execute_result"
    }
   ],
   "source": [
    "# Next we will standardize (scale) continuous x variables\n",
    "scl = StandardScaler()\n",
    "df_cont = df[continuous_X]\n",
    "df_cont = scl.fit_transform(df_cont)\n",
    "df_cont = pd.DataFrame(df_cont, columns=continuous_X)\n",
    "df_cont.head(3)"
   ]
  },
  {
   "cell_type": "code",
   "execution_count": 14,
   "metadata": {},
   "outputs": [
    {
     "data": {
      "text/html": [
       "<div>\n",
       "<style scoped>\n",
       "    .dataframe tbody tr th:only-of-type {\n",
       "        vertical-align: middle;\n",
       "    }\n",
       "\n",
       "    .dataframe tbody tr th {\n",
       "        vertical-align: top;\n",
       "    }\n",
       "\n",
       "    .dataframe thead th {\n",
       "        text-align: right;\n",
       "    }\n",
       "</style>\n",
       "<table border=\"1\" class=\"dataframe\">\n",
       "  <thead>\n",
       "    <tr style=\"text-align: right;\">\n",
       "      <th></th>\n",
       "      <th>grade_B</th>\n",
       "      <th>grade_C</th>\n",
       "      <th>grade_D</th>\n",
       "      <th>grade_E</th>\n",
       "      <th>grade_F</th>\n",
       "      <th>grade_G</th>\n",
       "      <th>home_ownership_OWN</th>\n",
       "      <th>home_ownership_RENT</th>\n",
       "      <th>verification_status_Source Verified</th>\n",
       "      <th>verification_status_Verified</th>\n",
       "      <th>...</th>\n",
       "      <th>addr_state_TX</th>\n",
       "      <th>addr_state_UT</th>\n",
       "      <th>addr_state_VA</th>\n",
       "      <th>addr_state_VT</th>\n",
       "      <th>addr_state_WA</th>\n",
       "      <th>addr_state_WI</th>\n",
       "      <th>addr_state_WV</th>\n",
       "      <th>addr_state_WY</th>\n",
       "      <th>initial_list_status_w</th>\n",
       "      <th>application_type_Joint App</th>\n",
       "    </tr>\n",
       "  </thead>\n",
       "  <tbody>\n",
       "    <tr>\n",
       "      <th>0</th>\n",
       "      <td>0</td>\n",
       "      <td>1</td>\n",
       "      <td>0</td>\n",
       "      <td>0</td>\n",
       "      <td>0</td>\n",
       "      <td>0</td>\n",
       "      <td>0</td>\n",
       "      <td>0</td>\n",
       "      <td>0</td>\n",
       "      <td>0</td>\n",
       "      <td>...</td>\n",
       "      <td>0</td>\n",
       "      <td>0</td>\n",
       "      <td>0</td>\n",
       "      <td>0</td>\n",
       "      <td>0</td>\n",
       "      <td>0</td>\n",
       "      <td>0</td>\n",
       "      <td>0</td>\n",
       "      <td>1</td>\n",
       "      <td>0</td>\n",
       "    </tr>\n",
       "    <tr>\n",
       "      <th>1</th>\n",
       "      <td>0</td>\n",
       "      <td>1</td>\n",
       "      <td>0</td>\n",
       "      <td>0</td>\n",
       "      <td>0</td>\n",
       "      <td>0</td>\n",
       "      <td>0</td>\n",
       "      <td>0</td>\n",
       "      <td>0</td>\n",
       "      <td>0</td>\n",
       "      <td>...</td>\n",
       "      <td>0</td>\n",
       "      <td>0</td>\n",
       "      <td>0</td>\n",
       "      <td>0</td>\n",
       "      <td>0</td>\n",
       "      <td>0</td>\n",
       "      <td>0</td>\n",
       "      <td>0</td>\n",
       "      <td>1</td>\n",
       "      <td>0</td>\n",
       "    </tr>\n",
       "    <tr>\n",
       "      <th>2</th>\n",
       "      <td>1</td>\n",
       "      <td>0</td>\n",
       "      <td>0</td>\n",
       "      <td>0</td>\n",
       "      <td>0</td>\n",
       "      <td>0</td>\n",
       "      <td>0</td>\n",
       "      <td>0</td>\n",
       "      <td>0</td>\n",
       "      <td>0</td>\n",
       "      <td>...</td>\n",
       "      <td>0</td>\n",
       "      <td>0</td>\n",
       "      <td>0</td>\n",
       "      <td>0</td>\n",
       "      <td>0</td>\n",
       "      <td>0</td>\n",
       "      <td>0</td>\n",
       "      <td>0</td>\n",
       "      <td>1</td>\n",
       "      <td>1</td>\n",
       "    </tr>\n",
       "  </tbody>\n",
       "</table>\n",
       "<p>3 rows × 71 columns</p>\n",
       "</div>"
      ],
      "text/plain": [
       "   grade_B  grade_C  grade_D  grade_E  grade_F  grade_G  home_ownership_OWN  \\\n",
       "0        0        1        0        0        0        0                   0   \n",
       "1        0        1        0        0        0        0                   0   \n",
       "2        1        0        0        0        0        0                   0   \n",
       "\n",
       "   home_ownership_RENT  verification_status_Source Verified  \\\n",
       "0                    0                                    0   \n",
       "1                    0                                    0   \n",
       "2                    0                                    0   \n",
       "\n",
       "   verification_status_Verified  ...  addr_state_TX  addr_state_UT  \\\n",
       "0                             0  ...              0              0   \n",
       "1                             0  ...              0              0   \n",
       "2                             0  ...              0              0   \n",
       "\n",
       "   addr_state_VA  addr_state_VT  addr_state_WA  addr_state_WI  addr_state_WV  \\\n",
       "0              0              0              0              0              0   \n",
       "1              0              0              0              0              0   \n",
       "2              0              0              0              0              0   \n",
       "\n",
       "   addr_state_WY  initial_list_status_w  application_type_Joint App  \n",
       "0              0                      1                           0  \n",
       "1              0                      1                           0  \n",
       "2              0                      1                           1  \n",
       "\n",
       "[3 rows x 71 columns]"
      ]
     },
     "execution_count": 14,
     "metadata": {},
     "output_type": "execute_result"
    }
   ],
   "source": [
    "# Next we will convert categorical variables to dummy variables but we don't standardize dummy variables\n",
    "df_categ = df[categorical_X]\n",
    "df_categ = pd.get_dummies(df_categ, columns = categorical_X, drop_first=True)\n",
    "df_categ.head(3)"
   ]
  },
  {
   "cell_type": "code",
   "execution_count": 15,
   "metadata": {},
   "outputs": [],
   "source": [
    "# Combining two dataframes, but first need to reset the index else the merged columns will generate nan values\n",
    "df_cont.reset_index(drop=True, inplace=True)\n",
    "df_categ.reset_index(drop=True, inplace=True)\n",
    "df_mod = pd.concat([df_cont, df_categ], axis=1) #horizontal_stacking, merging two dataframes"
   ]
  },
  {
   "cell_type": "code",
   "execution_count": 16,
   "metadata": {},
   "outputs": [
    {
     "data": {
      "text/plain": [
       "(3550, 89)"
      ]
     },
     "execution_count": 16,
     "metadata": {},
     "output_type": "execute_result"
    }
   ],
   "source": [
    "# Finally combining Loan Status column as well\n",
    "df.reset_index(drop=True, inplace=True)\n",
    "df_mod['loan_status'] = df['loan_status']\n",
    "df_mod['loan_status'].value_counts()\n",
    "df_mod.shape"
   ]
  },
  {
   "cell_type": "code",
   "execution_count": 17,
   "metadata": {},
   "outputs": [
    {
     "data": {
      "text/html": [
       "<div>\n",
       "<style scoped>\n",
       "    .dataframe tbody tr th:only-of-type {\n",
       "        vertical-align: middle;\n",
       "    }\n",
       "\n",
       "    .dataframe tbody tr th {\n",
       "        vertical-align: top;\n",
       "    }\n",
       "\n",
       "    .dataframe thead th {\n",
       "        text-align: right;\n",
       "    }\n",
       "</style>\n",
       "<table border=\"1\" class=\"dataframe\">\n",
       "  <thead>\n",
       "    <tr style=\"text-align: right;\">\n",
       "      <th></th>\n",
       "      <th>loan_amnt</th>\n",
       "      <th>term</th>\n",
       "      <th>int_rate</th>\n",
       "      <th>installment</th>\n",
       "      <th>emp_length</th>\n",
       "      <th>annual_inc</th>\n",
       "      <th>dti</th>\n",
       "      <th>fico_range_low</th>\n",
       "      <th>fico_range_high</th>\n",
       "      <th>open_acc</th>\n",
       "      <th>...</th>\n",
       "      <th>addr_state_UT</th>\n",
       "      <th>addr_state_VA</th>\n",
       "      <th>addr_state_VT</th>\n",
       "      <th>addr_state_WA</th>\n",
       "      <th>addr_state_WI</th>\n",
       "      <th>addr_state_WV</th>\n",
       "      <th>addr_state_WY</th>\n",
       "      <th>initial_list_status_w</th>\n",
       "      <th>application_type_Joint App</th>\n",
       "      <th>loan_status</th>\n",
       "    </tr>\n",
       "  </thead>\n",
       "  <tbody>\n",
       "    <tr>\n",
       "      <th>0</th>\n",
       "      <td>-1.293344</td>\n",
       "      <td>-0.520173</td>\n",
       "      <td>0.456392</td>\n",
       "      <td>-1.253879</td>\n",
       "      <td>1.129166</td>\n",
       "      <td>-0.511535</td>\n",
       "      <td>-1.535640</td>\n",
       "      <td>-0.664201</td>\n",
       "      <td>-0.664183</td>\n",
       "      <td>-0.906235</td>\n",
       "      <td>...</td>\n",
       "      <td>0</td>\n",
       "      <td>0</td>\n",
       "      <td>0</td>\n",
       "      <td>0</td>\n",
       "      <td>0</td>\n",
       "      <td>0</td>\n",
       "      <td>0</td>\n",
       "      <td>1</td>\n",
       "      <td>0</td>\n",
       "      <td>0</td>\n",
       "    </tr>\n",
       "    <tr>\n",
       "      <th>1</th>\n",
       "      <td>1.177972</td>\n",
       "      <td>-0.520173</td>\n",
       "      <td>-0.005972</td>\n",
       "      <td>1.488281</td>\n",
       "      <td>1.129166</td>\n",
       "      <td>-0.304194</td>\n",
       "      <td>-0.361614</td>\n",
       "      <td>0.584859</td>\n",
       "      <td>0.584827</td>\n",
       "      <td>1.583678</td>\n",
       "      <td>...</td>\n",
       "      <td>0</td>\n",
       "      <td>0</td>\n",
       "      <td>0</td>\n",
       "      <td>0</td>\n",
       "      <td>0</td>\n",
       "      <td>0</td>\n",
       "      <td>0</td>\n",
       "      <td>1</td>\n",
       "      <td>0</td>\n",
       "      <td>0</td>\n",
       "    </tr>\n",
       "    <tr>\n",
       "      <th>2</th>\n",
       "      <td>0.627489</td>\n",
       "      <td>1.922438</td>\n",
       "      <td>-0.285703</td>\n",
       "      <td>-0.036160</td>\n",
       "      <td>1.129166</td>\n",
       "      <td>-0.345662</td>\n",
       "      <td>-0.972339</td>\n",
       "      <td>-0.039671</td>\n",
       "      <td>-0.039678</td>\n",
       "      <td>-1.072229</td>\n",
       "      <td>...</td>\n",
       "      <td>0</td>\n",
       "      <td>0</td>\n",
       "      <td>0</td>\n",
       "      <td>0</td>\n",
       "      <td>0</td>\n",
       "      <td>0</td>\n",
       "      <td>0</td>\n",
       "      <td>1</td>\n",
       "      <td>1</td>\n",
       "      <td>0</td>\n",
       "    </tr>\n",
       "  </tbody>\n",
       "</table>\n",
       "<p>3 rows × 89 columns</p>\n",
       "</div>"
      ],
      "text/plain": [
       "   loan_amnt      term  int_rate  installment  emp_length  annual_inc  \\\n",
       "0  -1.293344 -0.520173  0.456392    -1.253879    1.129166   -0.511535   \n",
       "1   1.177972 -0.520173 -0.005972     1.488281    1.129166   -0.304194   \n",
       "2   0.627489  1.922438 -0.285703    -0.036160    1.129166   -0.345662   \n",
       "\n",
       "        dti  fico_range_low  fico_range_high  open_acc  ...  addr_state_UT  \\\n",
       "0 -1.535640       -0.664201        -0.664183 -0.906235  ...              0   \n",
       "1 -0.361614        0.584859         0.584827  1.583678  ...              0   \n",
       "2 -0.972339       -0.039671        -0.039678 -1.072229  ...              0   \n",
       "\n",
       "   addr_state_VA  addr_state_VT  addr_state_WA  addr_state_WI  addr_state_WV  \\\n",
       "0              0              0              0              0              0   \n",
       "1              0              0              0              0              0   \n",
       "2              0              0              0              0              0   \n",
       "\n",
       "   addr_state_WY  initial_list_status_w  application_type_Joint App  \\\n",
       "0              0                      1                           0   \n",
       "1              0                      1                           0   \n",
       "2              0                      1                           1   \n",
       "\n",
       "   loan_status  \n",
       "0            0  \n",
       "1            0  \n",
       "2            0  \n",
       "\n",
       "[3 rows x 89 columns]"
      ]
     },
     "execution_count": 17,
     "metadata": {},
     "output_type": "execute_result"
    }
   ],
   "source": [
    "#Data cleaning process is over, now our data is ready to be used for building our model\n",
    "df_new = df_mod\n",
    "df_mod.head(3)"
   ]
  },
  {
   "cell_type": "code",
   "execution_count": 18,
   "metadata": {},
   "outputs": [],
   "source": [
    "y = df_mod['loan_status']\n",
    "X = df_mod.drop('loan_status', axis=1)"
   ]
  },
  {
   "cell_type": "code",
   "execution_count": 19,
   "metadata": {},
   "outputs": [],
   "source": [
    "X_train, X_test, y_train, y_test = train_test_split(X, y, test_size=0.3, random_state =10)"
   ]
  },
  {
   "cell_type": "code",
   "execution_count": 20,
   "metadata": {},
   "outputs": [],
   "source": [
    "# Linear Dependence of Charge-off on the Predictors using Pearson Correlation, F Stat and p value\n",
    "linear_dep = pd.DataFrame()\n",
    "\n",
    "# Pearson correlations:\n",
    "for col in X_train.columns:\n",
    "    linear_dep.loc[col, 'pearson_corr'] = X_train[col].corr(y_train)\n",
    "    \n",
    "linear_dep['abs_pearson_corr'] = abs(linear_dep['pearson_corr'])"
   ]
  },
  {
   "cell_type": "code",
   "execution_count": 21,
   "metadata": {},
   "outputs": [],
   "source": [
    "# F Statistic and p-value\n",
    "from sklearn.feature_selection import f_classif  # f_classif returns F Stat and P value both\n",
    "for col in X_train.columns:\n",
    "    mask = X_train[col].notnull()\n",
    "    (linear_dep.loc[col,'FStat'], linear_dep.loc[col, 'p_value']) = f_classif(pd.DataFrame(X_train.loc[mask, col]), y_train.loc[mask])"
   ]
  },
  {
   "cell_type": "code",
   "execution_count": 22,
   "metadata": {},
   "outputs": [],
   "source": [
    "# Sort the results by the absolute value of the Pearson correlation:\n",
    "linear_dep.sort_values('abs_pearson_corr', ascending=False, inplace=True)\n",
    "linear_dep.drop('abs_pearson_corr', axis=1, inplace=True)"
   ]
  },
  {
   "cell_type": "code",
   "execution_count": 23,
   "metadata": {},
   "outputs": [
    {
     "data": {
      "text/html": [
       "<div>\n",
       "<style scoped>\n",
       "    .dataframe tbody tr th:only-of-type {\n",
       "        vertical-align: middle;\n",
       "    }\n",
       "\n",
       "    .dataframe tbody tr th {\n",
       "        vertical-align: top;\n",
       "    }\n",
       "\n",
       "    .dataframe thead th {\n",
       "        text-align: right;\n",
       "    }\n",
       "</style>\n",
       "<table border=\"1\" class=\"dataframe\">\n",
       "  <thead>\n",
       "    <tr style=\"text-align: right;\">\n",
       "      <th></th>\n",
       "      <th>variable</th>\n",
       "      <th>pearson_corr</th>\n",
       "      <th>FStat</th>\n",
       "      <th>p_value</th>\n",
       "    </tr>\n",
       "  </thead>\n",
       "  <tbody>\n",
       "    <tr>\n",
       "      <th>0</th>\n",
       "      <td>int_rate</td>\n",
       "      <td>0.317223</td>\n",
       "      <td>277.822245</td>\n",
       "      <td>3.279915e-59</td>\n",
       "    </tr>\n",
       "    <tr>\n",
       "      <th>1</th>\n",
       "      <td>term</td>\n",
       "      <td>0.247776</td>\n",
       "      <td>162.410141</td>\n",
       "      <td>4.428292e-36</td>\n",
       "    </tr>\n",
       "    <tr>\n",
       "      <th>2</th>\n",
       "      <td>grade_D</td>\n",
       "      <td>0.188242</td>\n",
       "      <td>91.217331</td>\n",
       "      <td>2.969119e-21</td>\n",
       "    </tr>\n",
       "    <tr>\n",
       "      <th>3</th>\n",
       "      <td>fico_range_low</td>\n",
       "      <td>-0.142982</td>\n",
       "      <td>51.821655</td>\n",
       "      <td>8.016985e-13</td>\n",
       "    </tr>\n",
       "    <tr>\n",
       "      <th>4</th>\n",
       "      <td>fico_range_high</td>\n",
       "      <td>-0.142980</td>\n",
       "      <td>51.819872</td>\n",
       "      <td>8.024123e-13</td>\n",
       "    </tr>\n",
       "    <tr>\n",
       "      <th>5</th>\n",
       "      <td>grade_E</td>\n",
       "      <td>0.141406</td>\n",
       "      <td>50.662392</td>\n",
       "      <td>1.429849e-12</td>\n",
       "    </tr>\n",
       "    <tr>\n",
       "      <th>6</th>\n",
       "      <td>dti</td>\n",
       "      <td>0.138620</td>\n",
       "      <td>48.647211</td>\n",
       "      <td>3.913986e-12</td>\n",
       "    </tr>\n",
       "    <tr>\n",
       "      <th>7</th>\n",
       "      <td>mo_sin_old_rev_tl_op</td>\n",
       "      <td>-0.116446</td>\n",
       "      <td>34.131636</td>\n",
       "      <td>5.824706e-09</td>\n",
       "    </tr>\n",
       "    <tr>\n",
       "      <th>8</th>\n",
       "      <td>grade_B</td>\n",
       "      <td>-0.104827</td>\n",
       "      <td>27.587978</td>\n",
       "      <td>1.628574e-07</td>\n",
       "    </tr>\n",
       "    <tr>\n",
       "      <th>9</th>\n",
       "      <td>mort_acc</td>\n",
       "      <td>-0.104738</td>\n",
       "      <td>27.540542</td>\n",
       "      <td>1.668559e-07</td>\n",
       "    </tr>\n",
       "  </tbody>\n",
       "</table>\n",
       "</div>"
      ],
      "text/plain": [
       "               variable  pearson_corr       FStat       p_value\n",
       "0              int_rate      0.317223  277.822245  3.279915e-59\n",
       "1                  term      0.247776  162.410141  4.428292e-36\n",
       "2               grade_D      0.188242   91.217331  2.969119e-21\n",
       "3        fico_range_low     -0.142982   51.821655  8.016985e-13\n",
       "4       fico_range_high     -0.142980   51.819872  8.024123e-13\n",
       "5               grade_E      0.141406   50.662392  1.429849e-12\n",
       "6                   dti      0.138620   48.647211  3.913986e-12\n",
       "7  mo_sin_old_rev_tl_op     -0.116446   34.131636  5.824706e-09\n",
       "8               grade_B     -0.104827   27.587978  1.628574e-07\n",
       "9              mort_acc     -0.104738   27.540542  1.668559e-07"
      ]
     },
     "execution_count": 23,
     "metadata": {},
     "output_type": "execute_result"
    }
   ],
   "source": [
    "# Reset the index:\n",
    "linear_dep.reset_index(inplace=True)\n",
    "linear_dep.rename(columns={'index':'variable'}, inplace=True)\n",
    "# View the results for the top 20 predictors most correlated with charged_off:\n",
    "#We can see from table below, variables most highly correalated with Loan Status are: int_rate, Term, Grade D, Fico Scores, Grade E & DTI\n",
    "linear_dep.head(10)"
   ]
  },
  {
   "cell_type": "code",
   "execution_count": 24,
   "metadata": {},
   "outputs": [
    {
     "name": "stdout",
     "output_type": "stream",
     "text": [
      "[34 21  1 35 75 62 39 60 32 55 36 74 73 67 54 20 76 15 16 14 46  1  1 33\n",
      " 37 57 78 63 65 72 71 64  6 56 61 22 38 40  9  8 49 43 47 79  4  1 29 30\n",
      " 31 53 24 68 18  7  5 58  1  1  2 12 13 10 45 51 50  1 48 26 52 27 77  1\n",
      " 23 41 28  1 11  3 70  1 44 66 19 17 42 25 59 69]\n",
      "The selected features as per RFE method are Index(['int_rate', 'grade_F', 'grade_G', 'addr_state_DE', 'addr_state_ME',\n",
      "       'addr_state_MI', 'addr_state_NH', 'addr_state_OK', 'addr_state_SC',\n",
      "       'addr_state_UT'],\n",
      "      dtype='object')\n"
     ]
    }
   ],
   "source": [
    "## Now we will do Feature Selection using RFE and PCA\n",
    "model = LogisticRegression() # create the RFE model and select 3 attributes\n",
    "rfe_model = RFE(model, 10)\n",
    "rfe_fit = rfe_model.fit(X_train, y_train)\n",
    "\n",
    "print(rfe_fit.ranking_)\n",
    "temp = pd.Series(rfe_fit.support_, index = X_train.columns)\n",
    "selected_features_rfe = temp[temp==True].index\n",
    "print(\"The selected features as per RFE method are\", selected_features_rfe)"
   ]
  },
  {
   "cell_type": "code",
   "execution_count": 25,
   "metadata": {},
   "outputs": [
    {
     "name": "stdout",
     "output_type": "stream",
     "text": [
      "Explained Variance: [0.17079649 0.14047062 0.08847399 0.078843   0.05928374 0.05650437\n",
      " 0.04592929 0.04413956 0.04192591 0.03320785]\n"
     ]
    }
   ],
   "source": [
    "from sklearn.decomposition import PCA\n",
    "#Feature extraction with PCA\n",
    "pca = PCA(n_components = 10)\n",
    "pca_fit = pca.fit(X_train)\n",
    "print(\"Explained Variance: %s\" % pca_fit.explained_variance_ratio_) #summarize components"
   ]
  },
  {
   "cell_type": "code",
   "execution_count": 26,
   "metadata": {},
   "outputs": [
    {
     "name": "stdout",
     "output_type": "stream",
     "text": [
      "Fitting 5 folds for each of 87 candidates, totalling 435 fits\n"
     ]
    },
    {
     "name": "stderr",
     "output_type": "stream",
     "text": [
      "[Parallel(n_jobs=-1)]: Using backend LokyBackend with 4 concurrent workers.\n",
      "[Parallel(n_jobs=-1)]: Done  59 tasks      | elapsed:    3.5s\n",
      "[Parallel(n_jobs=-1)]: Done 435 out of 435 | elapsed:   20.1s finished\n"
     ]
    },
    {
     "data": {
      "text/plain": [
       "GridSearchCV(cv=5, error_score='raise-deprecating',\n",
       "             estimator=RandomForestClassifier(bootstrap=True, class_weight=None,\n",
       "                                              criterion='gini', max_depth=None,\n",
       "                                              max_features='auto',\n",
       "                                              max_leaf_nodes=None,\n",
       "                                              min_impurity_decrease=0.0,\n",
       "                                              min_impurity_split=None,\n",
       "                                              min_samples_leaf=1,\n",
       "                                              min_samples_split=2,\n",
       "                                              min_weight_fraction_leaf=0.0,\n",
       "                                              n_estimators='warn', n_jobs=None,\n",
       "                                              oob_score=False, random_state=0,\n",
       "                                              verbose=0, warm_start=False),\n",
       "             iid='warn', n_jobs=-1, param_grid={'max_features': range(1, 88)},\n",
       "             pre_dispatch='2*n_jobs', refit=True, return_train_score=False,\n",
       "             scoring='roc_auc', verbose=1)"
      ]
     },
     "execution_count": 26,
     "metadata": {},
     "output_type": "execute_result"
    }
   ],
   "source": [
    "## Now we look at different MODEL SELECTION techniques\n",
    "## First we look at Random Forest Randomized Search model and Random Forest Grid Search\n",
    "rf = RandomForestClassifier(criterion='gini', random_state=0)\n",
    "maxFeatures = range(1, X_train.shape[1])\n",
    "param_rf = dict(max_features=maxFeatures)\n",
    "\n",
    "rf_rand = RandomizedSearchCV(rf, param_rf, cv=10, scoring='roc_auc', n_iter=len(maxFeatures), random_state=10)\n",
    "rf_grid = GridSearchCV(estimator=rf, param_grid=param_rf, scoring='roc_auc', n_jobs=-1, pre_dispatch='2*n_jobs', \n",
    "                       cv=5, verbose=1, return_train_score=False)\n",
    "\n",
    "rf_rand.fit(X_train, y_train)\n",
    "rf_grid.fit(X_train, y_train)"
   ]
  },
  {
   "cell_type": "code",
   "execution_count": 27,
   "metadata": {},
   "outputs": [
    {
     "name": "stdout",
     "output_type": "stream",
     "text": [
      "Cross validation mean best score for RF Randomized Search:  0.697\n",
      "Best parameters set: \n",
      " {'max_features': 60}\n",
      "Cross validation mean best score for RF Grid Search:  0.7\n",
      "Best parameters set: \n",
      " {'max_features': 32}\n"
     ]
    }
   ],
   "source": [
    "# Next we plug in the above best parameters derived from the RF model and try to get the accuracy score\n",
    "rf_rand_estimator = rf_rand.best_estimator_\n",
    "rf_grid_estimator = rf_grid.best_estimator_\n",
    "\n",
    "print('Cross validation mean best score for RF Randomized Search: ', (rf_rand.best_score_).round(3))\n",
    "print('Best parameters set: \\n', rf_rand.best_params_)\n",
    "\n",
    "print('Cross validation mean best score for RF Grid Search: ', (rf_grid.best_score_).round(3))\n",
    "print('Best parameters set: \\n', rf_grid.best_params_)"
   ]
  },
  {
   "cell_type": "code",
   "execution_count": 28,
   "metadata": {},
   "outputs": [
    {
     "name": "stdout",
     "output_type": "stream",
     "text": [
      "Accuracy score for RF Randomized Search:  0.821\n",
      "ROC score for RF Randomized Search:  0.661\n",
      "Accuracy score for RF Grid Search:  0.821\n",
      "ROC score for RF Grid Search:  0.683\n"
     ]
    }
   ],
   "source": [
    "y_pred_rf_rand = rf_rand_estimator.predict(X_test)\n",
    "y_prob_rf_rand = rf_rand_estimator.predict_proba(X_test)[:,1]\n",
    "#y_train_pred_rf_rand = rf_rand_estimator.predict(X_train)\n",
    "#y_train_prob_rf_rand = rf_rand_estimator.predict_proba(X_train)[:,1]\n",
    "\n",
    "print(\"Accuracy score for RF Randomized Search: \", accuracy_score(y_test, y_pred_rf_rand).round(3))\n",
    "print(\"ROC score for RF Randomized Search: \", metrics.roc_auc_score(y_test, y_prob_rf_rand).round(3))\n",
    "\n",
    "y_pred_rf_grid = rf_grid_estimator.predict(X_test)\n",
    "y_prob_rf_grid = rf_grid_estimator.predict_proba(X_test)[:,1]\n",
    "\n",
    "print(\"Accuracy score for RF Grid Search: \", accuracy_score(y_test, y_pred_rf_grid).round(3))\n",
    "print(\"ROC score for RF Grid Search: \", metrics.roc_auc_score(y_test, y_prob_rf_grid).round(3))"
   ]
  },
  {
   "cell_type": "code",
   "execution_count": 29,
   "metadata": {},
   "outputs": [
    {
     "name": "stdout",
     "output_type": "stream",
     "text": [
      "Predictors sorted by their score:\n"
     ]
    },
    {
     "data": {
      "text/html": [
       "<div>\n",
       "<style scoped>\n",
       "    .dataframe tbody tr th:only-of-type {\n",
       "        vertical-align: middle;\n",
       "    }\n",
       "\n",
       "    .dataframe tbody tr th {\n",
       "        vertical-align: top;\n",
       "    }\n",
       "\n",
       "    .dataframe thead th {\n",
       "        text-align: right;\n",
       "    }\n",
       "</style>\n",
       "<table border=\"1\" class=\"dataframe\">\n",
       "  <thead>\n",
       "    <tr style=\"text-align: right;\">\n",
       "      <th></th>\n",
       "      <th>Feature Importance</th>\n",
       "      <th>Variable</th>\n",
       "    </tr>\n",
       "  </thead>\n",
       "  <tbody>\n",
       "    <tr>\n",
       "      <th>0</th>\n",
       "      <td>0.1084</td>\n",
       "      <td>int_rate</td>\n",
       "    </tr>\n",
       "    <tr>\n",
       "      <th>1</th>\n",
       "      <td>0.0703</td>\n",
       "      <td>dti</td>\n",
       "    </tr>\n",
       "    <tr>\n",
       "      <th>2</th>\n",
       "      <td>0.0688</td>\n",
       "      <td>revol_bal</td>\n",
       "    </tr>\n",
       "    <tr>\n",
       "      <th>3</th>\n",
       "      <td>0.0652</td>\n",
       "      <td>mo_sin_old_il_acct</td>\n",
       "    </tr>\n",
       "    <tr>\n",
       "      <th>4</th>\n",
       "      <td>0.0607</td>\n",
       "      <td>mo_sin_old_rev_tl_op</td>\n",
       "    </tr>\n",
       "    <tr>\n",
       "      <th>5</th>\n",
       "      <td>0.0545</td>\n",
       "      <td>annual_inc</td>\n",
       "    </tr>\n",
       "    <tr>\n",
       "      <th>6</th>\n",
       "      <td>0.0502</td>\n",
       "      <td>revol_util</td>\n",
       "    </tr>\n",
       "    <tr>\n",
       "      <th>7</th>\n",
       "      <td>0.0468</td>\n",
       "      <td>installment</td>\n",
       "    </tr>\n",
       "    <tr>\n",
       "      <th>8</th>\n",
       "      <td>0.0413</td>\n",
       "      <td>total_acc</td>\n",
       "    </tr>\n",
       "    <tr>\n",
       "      <th>9</th>\n",
       "      <td>0.0398</td>\n",
       "      <td>open_acc</td>\n",
       "    </tr>\n",
       "  </tbody>\n",
       "</table>\n",
       "</div>"
      ],
      "text/plain": [
       "   Feature Importance              Variable\n",
       "0              0.1084              int_rate\n",
       "1              0.0703                   dti\n",
       "2              0.0688             revol_bal\n",
       "3              0.0652    mo_sin_old_il_acct\n",
       "4              0.0607  mo_sin_old_rev_tl_op\n",
       "5              0.0545            annual_inc\n",
       "6              0.0502            revol_util\n",
       "7              0.0468           installment\n",
       "8              0.0413             total_acc\n",
       "9              0.0398              open_acc"
      ]
     },
     "execution_count": 29,
     "metadata": {},
     "output_type": "execute_result"
    }
   ],
   "source": [
    "# Feature Importance using RandomForest Classifier\n",
    "''' # features = ['int_rate', 'revol_util', 'dti', 'mo_sin_old_il_acct', 'mo_sin_old_rev_tl_op', 'revol_bal', 'loan_amnt', 'total_acc',\n",
    "'installment', 'annual_inc', 'open_acc', 'fico_range_high', 'term', 'fico_range_low',  'mort_acc', 'emp_length', \n",
    "'grade_D', 'home_ownership_RENT', 'verification_status_Verified']  '''\n",
    "\n",
    "print(\"Predictors sorted by their score:\")\n",
    "feature_names = sorted(zip (map(lambda z: round(z, 4), rf_rand.best_estimator_.feature_importances_), X_train.columns), reverse=True)\n",
    "feature_names_df = pd.DataFrame(feature_names)\n",
    "feature_names_df.reset_index(inplace=False)\n",
    "feature_names_df.rename(columns={1:'Variable', 0:'Feature Importance'}, inplace=True)\n",
    "feature_names_df.head(10)"
   ]
  },
  {
   "cell_type": "code",
   "execution_count": 30,
   "metadata": {},
   "outputs": [
    {
     "data": {
      "image/png": "[encoded data removed]",
      "text/plain": [
       "<Figure size 720x432 with 1 Axes>"
      ]
     },
     "metadata": {
      "needs_background": "light"
     },
     "output_type": "display_data"
    }
   ],
   "source": [
    "feature_importances = pd.DataFrame(rf_rand.best_estimator_.feature_importances_, index = X_train.columns,\n",
    "                                    columns=['importance']).sort_values('importance', ascending=False)\n",
    "# Normalize The Features and visulize the top 10 features\n",
    "feature_importance = 100.0 * (rf_rand.best_estimator_.feature_importances_ / rf_rand.best_estimator_.feature_importances_.max())\n",
    "sorted_idx = sorted(range(len(feature_importance)), key=lambda i: feature_importance[i])[-10:]\n",
    "pos = np.arange(len(sorted_idx)) + .5\n",
    "plt.figure(figsize=(10, 6))\n",
    "\n",
    "plt.barh(pos, feature_importance[sorted_idx], align='center')\n",
    "plt.yticks(pos, np.asanyarray(X_train.columns.tolist())[sorted_idx])\n",
    "plt.xlabel('Relative Importance')\n",
    "plt.title('Variable Importance (Top 10)')\n",
    "plt.show()"
   ]
  },
  {
   "cell_type": "code",
   "execution_count": 31,
   "metadata": {},
   "outputs": [],
   "source": [
    "# logistic regression with Stochastic Gradient Descent training (SGD)\n",
    "pipeline_sgdlr = Pipeline([('model', SGDClassifier(loss='log', max_iter=1000, tol=1e-3, random_state=10, warm_start=False))])\n",
    "param_sgdlr  = {'model__alpha': [10**-5, 10**-1, 10**2], 'model__penalty': ['l1', 'l2']} # A small grid of hyper parameters to search over"
   ]
  },
  {
   "cell_type": "code",
   "execution_count": 32,
   "metadata": {},
   "outputs": [
    {
     "name": "stdout",
     "output_type": "stream",
     "text": [
      "Fitting 5 folds for each of 6 candidates, totalling 30 fits\n"
     ]
    },
    {
     "name": "stderr",
     "output_type": "stream",
     "text": [
      "[Parallel(n_jobs=-1)]: Using backend LokyBackend with 4 concurrent workers.\n",
      "[Parallel(n_jobs=-1)]: Done  23 out of  30 | elapsed:    0.6s remaining:    0.1s\n",
      "[Parallel(n_jobs=-1)]: Done  30 out of  30 | elapsed:    0.6s finished\n"
     ]
    },
    {
     "data": {
      "text/plain": [
       "GridSearchCV(cv=5, error_score='raise-deprecating',\n",
       "             estimator=Pipeline(memory=None,\n",
       "                                steps=[('model',\n",
       "                                        SGDClassifier(alpha=0.0001,\n",
       "                                                      average=False,\n",
       "                                                      class_weight=None,\n",
       "                                                      early_stopping=False,\n",
       "                                                      epsilon=0.1, eta0=0.0,\n",
       "                                                      fit_intercept=True,\n",
       "                                                      l1_ratio=0.15,\n",
       "                                                      learning_rate='optimal',\n",
       "                                                      loss='log', max_iter=1000,\n",
       "                                                      n_iter_no_change=5,\n",
       "                                                      n_jobs=None, penalty='l2',\n",
       "                                                      power_t=0.5,\n",
       "                                                      random_state=10,\n",
       "                                                      shuffle=True, tol=0.001,\n",
       "                                                      validation_fraction=0.1,\n",
       "                                                      verbose=0,\n",
       "                                                      warm_start=False))],\n",
       "                                verbose=False),\n",
       "             iid='warn', n_jobs=-1,\n",
       "             param_grid={'model__alpha': [1e-05, 0.1, 100],\n",
       "                         'model__penalty': ['l1', 'l2']},\n",
       "             pre_dispatch='2*n_jobs', refit=True, return_train_score=False,\n",
       "             scoring='roc_auc', verbose=1)"
      ]
     },
     "execution_count": 32,
     "metadata": {},
     "output_type": "execute_result"
    }
   ],
   "source": [
    "# Grid search and train the final model on the whole dataset\n",
    "grid_sgdlr = GridSearchCV(estimator=pipeline_sgdlr, param_grid=param_sgdlr, scoring='roc_auc', n_jobs=-1, \n",
    "                          pre_dispatch='2*n_jobs', cv=5, verbose=1, return_train_score=False)\n",
    "grid_sgdlr.fit(X_train, y_train)"
   ]
  },
  {
   "cell_type": "code",
   "execution_count": 33,
   "metadata": {},
   "outputs": [
    {
     "name": "stdout",
     "output_type": "stream",
     "text": [
      "Best hyperparameters:  {'model__alpha': 0.1, 'model__penalty': 'l2'}\n",
      "Cross validation mean best score for SGD is:  0.758\n",
      "ROC score for SGD Grid Search:  0.749\n",
      "Accuracy score for SGD Grid Search:  0.826\n"
     ]
    }
   ],
   "source": [
    "grid_sgdlr_estimator = grid_sgdlr.best_estimator_\n",
    "print(\"Best hyperparameters: \", grid_sgdlr.best_params_)  #Best hyperparameters\n",
    "print(\"Cross validation mean best score for SGD is: \", (grid_sgdlr.best_score_).round(3)) #Mean cross-validated AUROC score of the best model\n",
    "\n",
    "y_pred_grid_sgdlr = grid_sgdlr_estimator.predict(X_test)\n",
    "y_prob_grid_sgdlr = grid_sgdlr_estimator.predict_proba(X_test)[:,1]\n",
    "#ytrain_pred_grid_sgdlr = grid_sgdlr_estimator.predict(X_train)\n",
    "#ytrain_prob_grid_sgdlr = grid_sgdlr_estimator.predict_proba(X_train)[:,1]\n",
    "\n",
    "print(\"ROC score for SGD Grid Search: \", metrics.roc_auc_score(y_test, y_prob_grid_sgdlr).round(3))\n",
    "print(\"Accuracy score for SGD Grid Search: \", accuracy_score(y_test, y_pred_grid_sgdlr).round(3))"
   ]
  },
  {
   "cell_type": "code",
   "execution_count": 34,
   "metadata": {},
   "outputs": [
    {
     "data": {
      "text/plain": [
       "SGDClassifier(alpha=0.1, average=False, class_weight=None, early_stopping=False,\n",
       "              epsilon=0.1, eta0=0.0, fit_intercept=True, l1_ratio=0.15,\n",
       "              learning_rate='optimal', loss='log', max_iter=1000,\n",
       "              n_iter_no_change=5, n_jobs=None, penalty='l2', power_t=0.5,\n",
       "              random_state=10, shuffle=True, tol=0.001, validation_fraction=0.1,\n",
       "              verbose=0, warm_start=False)"
      ]
     },
     "execution_count": 34,
     "metadata": {},
     "output_type": "execute_result"
    }
   ],
   "source": [
    "# Refit the SGD model again using best parameters derived and rank Feature Coefficients\n",
    "sgd_model= SGDClassifier(loss='log', max_iter=1000, tol=1e-3, random_state=10, warm_start=False, alpha=0.1, penalty='l2')\n",
    "sgd_model.fit(X_train, y_train)"
   ]
  },
  {
   "cell_type": "code",
   "execution_count": 35,
   "metadata": {},
   "outputs": [
    {
     "name": "stdout",
     "output_type": "stream",
     "text": [
      "Logistic Regression Coefficients: Top 10\n"
     ]
    },
    {
     "data": {
      "text/html": [
       "<div>\n",
       "<style scoped>\n",
       "    .dataframe tbody tr th:only-of-type {\n",
       "        vertical-align: middle;\n",
       "    }\n",
       "\n",
       "    .dataframe tbody tr th {\n",
       "        vertical-align: top;\n",
       "    }\n",
       "\n",
       "    .dataframe thead th {\n",
       "        text-align: right;\n",
       "    }\n",
       "</style>\n",
       "<table border=\"1\" class=\"dataframe\">\n",
       "  <thead>\n",
       "    <tr style=\"text-align: right;\">\n",
       "      <th></th>\n",
       "      <th>weight</th>\n",
       "    </tr>\n",
       "  </thead>\n",
       "  <tbody>\n",
       "    <tr>\n",
       "      <th>int_rate</th>\n",
       "      <td>0.305</td>\n",
       "    </tr>\n",
       "    <tr>\n",
       "      <th>term</th>\n",
       "      <td>0.254</td>\n",
       "    </tr>\n",
       "    <tr>\n",
       "      <th>mort_acc</th>\n",
       "      <td>-0.134</td>\n",
       "    </tr>\n",
       "    <tr>\n",
       "      <th>dti</th>\n",
       "      <td>0.129</td>\n",
       "    </tr>\n",
       "    <tr>\n",
       "      <th>mo_sin_old_rev_tl_op</th>\n",
       "      <td>-0.118</td>\n",
       "    </tr>\n",
       "    <tr>\n",
       "      <th>grade_D</th>\n",
       "      <td>0.101</td>\n",
       "    </tr>\n",
       "    <tr>\n",
       "      <th>fico_range_low</th>\n",
       "      <td>-0.098</td>\n",
       "    </tr>\n",
       "    <tr>\n",
       "      <th>fico_range_high</th>\n",
       "      <td>-0.098</td>\n",
       "    </tr>\n",
       "    <tr>\n",
       "      <th>revol_bal</th>\n",
       "      <td>-0.090</td>\n",
       "    </tr>\n",
       "    <tr>\n",
       "      <th>annual_inc</th>\n",
       "      <td>-0.080</td>\n",
       "    </tr>\n",
       "  </tbody>\n",
       "</table>\n",
       "</div>"
      ],
      "text/plain": [
       "                      weight\n",
       "int_rate               0.305\n",
       "term                   0.254\n",
       "mort_acc              -0.134\n",
       "dti                    0.129\n",
       "mo_sin_old_rev_tl_op  -0.118\n",
       "grade_D                0.101\n",
       "fico_range_low        -0.098\n",
       "fico_range_high       -0.098\n",
       "revol_bal             -0.090\n",
       "annual_inc            -0.080"
      ]
     },
     "execution_count": 35,
     "metadata": {},
     "output_type": "execute_result"
    }
   ],
   "source": [
    "temp = sorted(zip(np.round(sgd_model.coef_.reshape(-1), 3), X_train.columns.values), key=lambda x: -abs(x[0]))\n",
    "weight = [x for x, _ in temp]\n",
    "feature = [x for _, x in temp]\n",
    "print(\"Logistic Regression Coefficients: Top 10\")\n",
    "pd.DataFrame({'weight': weight}, index =feature).head(10)"
   ]
  },
  {
   "cell_type": "code",
   "execution_count": 36,
   "metadata": {},
   "outputs": [
    {
     "data": {
      "text/plain": [
       "RFE(estimator=SGDClassifier(alpha=0.1, average=False, class_weight=None,\n",
       "                            early_stopping=False, epsilon=0.1, eta0=0.0,\n",
       "                            fit_intercept=True, l1_ratio=0.15,\n",
       "                            learning_rate='optimal', loss='log', max_iter=1000,\n",
       "                            n_iter_no_change=5, n_jobs=None, penalty='l2',\n",
       "                            power_t=0.5, random_state=10, shuffle=True,\n",
       "                            tol=0.001, validation_fraction=0.1, verbose=0,\n",
       "                            warm_start=False),\n",
       "    n_features_to_select=1, step=1, verbose=0)"
      ]
     },
     "execution_count": 36,
     "metadata": {},
     "output_type": "execute_result"
    }
   ],
   "source": [
    "#Recursive Feature Elimination (RFE) using SGDClassifier model best parameters\n",
    "rfe_sgd = RFE(sgd_model, n_features_to_select=1)\n",
    "rfe_sgd.fit(X_train, y_train)"
   ]
  },
  {
   "cell_type": "code",
   "execution_count": 37,
   "metadata": {},
   "outputs": [
    {
     "name": "stdout",
     "output_type": "stream",
     "text": [
      "Logistic SGD regression RFE Result: Top 10\n"
     ]
    },
    {
     "data": {
      "text/html": [
       "<div>\n",
       "<style scoped>\n",
       "    .dataframe tbody tr th:only-of-type {\n",
       "        vertical-align: middle;\n",
       "    }\n",
       "\n",
       "    .dataframe tbody tr th {\n",
       "        vertical-align: top;\n",
       "    }\n",
       "\n",
       "    .dataframe thead th {\n",
       "        text-align: right;\n",
       "    }\n",
       "</style>\n",
       "<table border=\"1\" class=\"dataframe\">\n",
       "  <thead>\n",
       "    <tr style=\"text-align: right;\">\n",
       "      <th></th>\n",
       "      <th>rank</th>\n",
       "    </tr>\n",
       "  </thead>\n",
       "  <tbody>\n",
       "    <tr>\n",
       "      <th>int_rate</th>\n",
       "      <td>1</td>\n",
       "    </tr>\n",
       "    <tr>\n",
       "      <th>term</th>\n",
       "      <td>2</td>\n",
       "    </tr>\n",
       "    <tr>\n",
       "      <th>mort_acc</th>\n",
       "      <td>3</td>\n",
       "    </tr>\n",
       "    <tr>\n",
       "      <th>fico_range_low</th>\n",
       "      <td>4</td>\n",
       "    </tr>\n",
       "    <tr>\n",
       "      <th>dti</th>\n",
       "      <td>5</td>\n",
       "    </tr>\n",
       "    <tr>\n",
       "      <th>mo_sin_old_rev_tl_op</th>\n",
       "      <td>6</td>\n",
       "    </tr>\n",
       "    <tr>\n",
       "      <th>fico_range_high</th>\n",
       "      <td>7</td>\n",
       "    </tr>\n",
       "    <tr>\n",
       "      <th>grade_D</th>\n",
       "      <td>8</td>\n",
       "    </tr>\n",
       "    <tr>\n",
       "      <th>revol_bal</th>\n",
       "      <td>9</td>\n",
       "    </tr>\n",
       "    <tr>\n",
       "      <th>loan_amnt</th>\n",
       "      <td>10</td>\n",
       "    </tr>\n",
       "  </tbody>\n",
       "</table>\n",
       "</div>"
      ],
      "text/plain": [
       "                      rank\n",
       "int_rate                 1\n",
       "term                     2\n",
       "mort_acc                 3\n",
       "fico_range_low           4\n",
       "dti                      5\n",
       "mo_sin_old_rev_tl_op     6\n",
       "fico_range_high          7\n",
       "grade_D                  8\n",
       "revol_bal                9\n",
       "loan_amnt               10"
      ]
     },
     "execution_count": 37,
     "metadata": {},
     "output_type": "execute_result"
    }
   ],
   "source": [
    "temp = sorted(zip(map(lambda x: round(x, 4), rfe_sgd.ranking_), X_train.columns))\n",
    "rank = [x for x, _ in temp] #temp stores value of rfe_sgd.ranking_ and X_train.columns. Here ranking from temp is extracted & assigned to rank\n",
    "feature = [x for _, x in temp] # Here X_train columns names are extracted from temp and assigned to feature\n",
    "print(\"Logistic SGD regression RFE Result: Top 10\")\n",
    "pd.DataFrame({'rank': rank}, index = feature).head(10)"
   ]
  },
  {
   "cell_type": "code",
   "execution_count": 38,
   "metadata": {},
   "outputs": [],
   "source": [
    "# K Nearest Neighbors(KNN) with PCA and Linear Discriminant Analysis (LDA) for dimension reduction\n",
    "from sklearn import decomposition\n",
    "pipeline_knn = Pipeline([('pca', decomposition.PCA()), ('model', KNeighborsClassifier(n_jobs=-1))])\n",
    "pipeline_knn2 = Pipeline([('lda', LinearDiscriminantAnalysis()), ('model', KNeighborsClassifier(n_jobs=-1))])\n",
    "\n",
    "param_knn = {'pca__n_components': range(3,6), 'model__n_neighbors': [5, 25, 125]}\n",
    "param_knn2 = {'lda__n_components': range(3,6), 'model__n_neighbors': [5, 25, 125]}"
   ]
  },
  {
   "cell_type": "code",
   "execution_count": 39,
   "metadata": {},
   "outputs": [
    {
     "name": "stdout",
     "output_type": "stream",
     "text": [
      "Fitting 5 folds for each of 9 candidates, totalling 45 fits\n"
     ]
    },
    {
     "name": "stderr",
     "output_type": "stream",
     "text": [
      "[Parallel(n_jobs=-1)]: Using backend LokyBackend with 4 concurrent workers.\n",
      "[Parallel(n_jobs=-1)]: Done  45 out of  45 | elapsed:    2.4s finished\n"
     ]
    },
    {
     "data": {
      "text/plain": [
       "GridSearchCV(cv=5, error_score='raise-deprecating',\n",
       "             estimator=Pipeline(memory=None,\n",
       "                                steps=[('pca',\n",
       "                                        PCA(copy=True, iterated_power='auto',\n",
       "                                            n_components=None,\n",
       "                                            random_state=None,\n",
       "                                            svd_solver='auto', tol=0.0,\n",
       "                                            whiten=False)),\n",
       "                                       ('model',\n",
       "                                        KNeighborsClassifier(algorithm='auto',\n",
       "                                                             leaf_size=30,\n",
       "                                                             metric='minkowski',\n",
       "                                                             metric_params=None,\n",
       "                                                             n_jobs=-1,\n",
       "                                                             n_neighbors=5, p=2,\n",
       "                                                             weights='uniform'))],\n",
       "                                verbose=False),\n",
       "             iid='warn', n_jobs=-1,\n",
       "             param_grid={'model__n_neighbors': [5, 25, 125],\n",
       "                         'pca__n_components': range(3, 6)},\n",
       "             pre_dispatch='2*n_jobs', refit=True, return_train_score=False,\n",
       "             scoring='roc_auc', verbose=1)"
      ]
     },
     "execution_count": 39,
     "metadata": {},
     "output_type": "execute_result"
    }
   ],
   "source": [
    "grid_knn = GridSearchCV(estimator=pipeline_knn, param_grid=param_knn, scoring='roc_auc', n_jobs=-1, \n",
    "                        pre_dispatch='2*n_jobs', cv=5, verbose=1, return_train_score=False)\n",
    "#grid_knn2 = GridSearchCV(estimator=pipeline_knn2, param_grid=param_knn2, scoring='roc_auc', n_jobs=-1, \n",
    "#                         pre_dispatch='2*n_jobs', cv=5, verbose=1, return_train_score=False)\n",
    "\n",
    "grid_knn.fit(X_train, y_train)"
   ]
  },
  {
   "cell_type": "code",
   "execution_count": 40,
   "metadata": {},
   "outputs": [
    {
     "name": "stdout",
     "output_type": "stream",
     "text": [
      "Best parameters set for KNN: {'model__n_neighbors': 125, 'pca__n_components': 4}\n",
      "Cross validation mean best score for KNN:  0.742\n",
      "ROC score for KN Neighbors:  0.73\n",
      "Accuracy score for KN Neighbors:  0.82\n"
     ]
    }
   ],
   "source": [
    "knn_estimator = grid_knn.best_estimator_\n",
    "print('Best parameters set for KNN:', grid_knn.best_params_)\n",
    "print('Cross validation mean best score for KNN: ', (grid_knn.best_score_).round(3))\n",
    "\n",
    "y_pred_knn = knn_estimator.predict(X_test)\n",
    "y_prob_knn = knn_estimator.predict_proba(X_test)[:,1]\n",
    "#y_train_pred_knn = knn_estimator.predict(X_train)\n",
    "#y_train_prob_knn = knn_estimator.predict_proba(X_train)[:,1]\n",
    "\n",
    "print(\"ROC score for KN Neighbors: \", metrics.roc_auc_score(y_test, y_prob_knn).round(3))\n",
    "print(\"Accuracy score for KN Neighbors: \", accuracy_score(y_test, y_pred_knn).round(3))"
   ]
  },
  {
   "cell_type": "code",
   "execution_count": 41,
   "metadata": {},
   "outputs": [
    {
     "data": {
      "text/plain": [
       "GridSearchCV(cv=5, error_score='raise-deprecating',\n",
       "             estimator=SVC(C=1.0, cache_size=200, class_weight=None, coef0=0.0,\n",
       "                           decision_function_shape='ovr', degree=3,\n",
       "                           gamma='auto_deprecated', kernel='rbf', max_iter=-1,\n",
       "                           probability=False, random_state=None, shrinking=True,\n",
       "                           tol=0.001, verbose=False),\n",
       "             iid='warn', n_jobs=None,\n",
       "             param_grid={'C': [0.1, 1, 10], 'gamma': ['auto', 'scale'],\n",
       "                         'kernel': ['poly', 'sigmoid', 'rbf']},\n",
       "             pre_dispatch='2*n_jobs', refit=True, return_train_score=False,\n",
       "             scoring='roc_auc', verbose=0)"
      ]
     },
     "execution_count": 41,
     "metadata": {},
     "output_type": "execute_result"
    }
   ],
   "source": [
    "# Support Vector Machines(SVM) with Grid Search CV\n",
    "clf_svm = SVC()\n",
    "#powers = range(0, 3)\n",
    "#cs = [10**i for i in powers]\n",
    "#param_grid = dict(C=cs)\n",
    "param_grid = {'C': [0.1, 1, 10], 'gamma': ['auto','scale'], 'kernel': ['poly','sigmoid','rbf']}\n",
    "\n",
    "svm_grid = GridSearchCV(clf_svm, param_grid, cv=5, scoring='roc_auc')\n",
    "svm_grid.fit(X_train, y_train)"
   ]
  },
  {
   "cell_type": "code",
   "execution_count": 42,
   "metadata": {},
   "outputs": [
    {
     "name": "stdout",
     "output_type": "stream",
     "text": [
      "Best parameter set:  {'C': 1, 'gamma': 'auto', 'kernel': 'poly'}\n",
      "Cross validation mean best score for SVM:  0.7004\n",
      "ROC score for SVM Grid Search:  0.499\n",
      "Accuracy score for SVM Grid Search:  0.818\n"
     ]
    }
   ],
   "source": [
    "svm_grid_estimator = svm_grid.best_estimator_\n",
    "print(\"Best parameter set: \", svm_grid.best_params_)\n",
    "print(\"Cross validation mean best score for SVM: \", (svm_grid.best_score_).round(4))\n",
    "\n",
    "y_pred_svm_grid = svm_grid_estimator.predict(X_test)\n",
    "#y_prob_svm_grid = svm_grid_estimator.predict_proba(X_test)[:,1]\n",
    "y_prob_svm_grid = svm_grid_estimator.decision_function(X_test)\n",
    "y_train_pred_svm_grid = svm_grid_estimator.predict(X_train)\n",
    "#y_train_prob_knn = knn_estimator2.predict_proba(X_train)[:,1]\n",
    "\n",
    "print(\"ROC score for SVM Grid Search: \", metrics.roc_auc_score(y_test, y_pred_svm_grid).round(3))\n",
    "print(\"Accuracy score for SVM Grid Search: \", accuracy_score(y_test, y_pred_svm_grid).round(3))"
   ]
  },
  {
   "cell_type": "code",
   "execution_count": 43,
   "metadata": {},
   "outputs": [
    {
     "data": {
      "text/html": [
       "<div>\n",
       "<style scoped>\n",
       "    .dataframe tbody tr th:only-of-type {\n",
       "        vertical-align: middle;\n",
       "    }\n",
       "\n",
       "    .dataframe tbody tr th {\n",
       "        vertical-align: top;\n",
       "    }\n",
       "\n",
       "    .dataframe thead th {\n",
       "        text-align: right;\n",
       "    }\n",
       "</style>\n",
       "<table border=\"1\" class=\"dataframe\">\n",
       "  <thead>\n",
       "    <tr style=\"text-align: right;\">\n",
       "      <th></th>\n",
       "      <th>ROC_AUC</th>\n",
       "      <th>MODEL</th>\n",
       "    </tr>\n",
       "  </thead>\n",
       "  <tbody>\n",
       "    <tr>\n",
       "      <th>0</th>\n",
       "      <td>0.697157</td>\n",
       "      <td>Random Forest Randomized Search</td>\n",
       "    </tr>\n",
       "    <tr>\n",
       "      <th>1</th>\n",
       "      <td>0.757788</td>\n",
       "      <td>SGD Logistic Regression</td>\n",
       "    </tr>\n",
       "    <tr>\n",
       "      <th>2</th>\n",
       "      <td>0.742217</td>\n",
       "      <td>KNNeighbors PCA</td>\n",
       "    </tr>\n",
       "    <tr>\n",
       "      <th>3</th>\n",
       "      <td>0.700438</td>\n",
       "      <td>Support Vector Machine GridSearchCV</td>\n",
       "    </tr>\n",
       "  </tbody>\n",
       "</table>\n",
       "</div>"
      ],
      "text/plain": [
       "    ROC_AUC                                MODEL\n",
       "0  0.697157      Random Forest Randomized Search\n",
       "1  0.757788              SGD Logistic Regression\n",
       "2  0.742217                      KNNeighbors PCA\n",
       "3  0.700438  Support Vector Machine GridSearchCV"
      ]
     },
     "execution_count": 43,
     "metadata": {},
     "output_type": "execute_result"
    },
    {
     "data": {
      "image/png": "[encoded data removed]",
      "text/plain": [
       "<Figure size 432x288 with 1 Axes>"
      ]
     },
     "metadata": {
      "needs_background": "light"
     },
     "output_type": "display_data"
    }
   ],
   "source": [
    "# Model Comparison & Evaluation and Plot the AUROC scores on the training dataset\n",
    "rocauc_score = [rf_rand.best_score_, grid_sgdlr.best_score_, grid_knn.best_score_, svm_grid.best_score_]\n",
    "rocauc_res = pd.DataFrame({\"ROC_AUC\": rocauc_score, \"MODEL\": [\"Random Forest Randomized Search\", \"SGD Logistic Regression\", \"KNNeighbors PCA\", \n",
    "                                                              \"Support Vector Machine GridSearchCV\"]})\n",
    "g = sns.barplot(\"ROC_AUC\", \"MODEL\", data = rocauc_res, palette = \"Set3\", orient = 'h')\n",
    "g.set_xlabel(\"ROC_AUC score\")\n",
    "g = g.set_title(\"Cross validation ROC_AUC scores\")\n",
    "rocauc_res"
   ]
  },
  {
   "cell_type": "code",
   "execution_count": 44,
   "metadata": {},
   "outputs": [
    {
     "data": {
      "text/html": [
       "<div>\n",
       "<style scoped>\n",
       "    .dataframe tbody tr th:only-of-type {\n",
       "        vertical-align: middle;\n",
       "    }\n",
       "\n",
       "    .dataframe tbody tr th {\n",
       "        vertical-align: top;\n",
       "    }\n",
       "\n",
       "    .dataframe thead th {\n",
       "        text-align: right;\n",
       "    }\n",
       "</style>\n",
       "<table border=\"1\" class=\"dataframe\">\n",
       "  <thead>\n",
       "    <tr style=\"text-align: right;\">\n",
       "      <th></th>\n",
       "      <th>Accuracy Score</th>\n",
       "      <th>MODEL</th>\n",
       "    </tr>\n",
       "  </thead>\n",
       "  <tbody>\n",
       "    <tr>\n",
       "      <th>0</th>\n",
       "      <td>0.820657</td>\n",
       "      <td>Random Forest Randomized Search</td>\n",
       "    </tr>\n",
       "    <tr>\n",
       "      <th>1</th>\n",
       "      <td>0.826291</td>\n",
       "      <td>SGD Logistic Regression</td>\n",
       "    </tr>\n",
       "    <tr>\n",
       "      <th>2</th>\n",
       "      <td>0.819718</td>\n",
       "      <td>KNNeighbors PCA</td>\n",
       "    </tr>\n",
       "    <tr>\n",
       "      <th>3</th>\n",
       "      <td>0.817840</td>\n",
       "      <td>Support Vector Machine GridSearchCV</td>\n",
       "    </tr>\n",
       "  </tbody>\n",
       "</table>\n",
       "</div>"
      ],
      "text/plain": [
       "   Accuracy Score                                MODEL\n",
       "0        0.820657      Random Forest Randomized Search\n",
       "1        0.826291              SGD Logistic Regression\n",
       "2        0.819718                      KNNeighbors PCA\n",
       "3        0.817840  Support Vector Machine GridSearchCV"
      ]
     },
     "execution_count": 44,
     "metadata": {},
     "output_type": "execute_result"
    },
    {
     "data": {
      "image/png": "[encoded data removed]",
      "text/plain": [
       "<Figure size 432x288 with 1 Axes>"
      ]
     },
     "metadata": {
      "needs_background": "light"
     },
     "output_type": "display_data"
    }
   ],
   "source": [
    "# Model Comparison & Evaluation and Plot the Accuracy scores on the testing dataset\n",
    "acc_scores = [accuracy_score(y_test, y_pred_rf_rand), accuracy_score(y_test, y_pred_grid_sgdlr), \n",
    "              accuracy_score(y_test, y_pred_knn), accuracy_score(y_test, y_pred_svm_grid)]\n",
    "accuracy_model = pd.DataFrame({\"Accuracy Score\": acc_scores, \"MODEL\": [\"Random Forest Randomized Search\", \"SGD Logistic Regression\", \n",
    "                                                                           \"KNNeighbors PCA\", \"Support Vector Machine GridSearchCV\"]})\n",
    "\n",
    "g = sns.barplot(\"Accuracy Score\", \"MODEL\", data = accuracy_model, palette = \"Set3\", orient = 'h')\n",
    "g.set_xlabel(\"Accuracy score\")\n",
    "g = g.set_title(\"Prediction Accuracy scores\")\n",
    "accuracy_model"
   ]
  },
  {
   "cell_type": "code",
   "execution_count": 45,
   "metadata": {},
   "outputs": [],
   "source": [
    "def plot_ROC(X_test, y_test, y_prob):\n",
    "    fpr, tpr, thresh = roc_curve(y_test, y_prob, pos_label=1)\n",
    "    roc_auc = roc_auc_score(y_test, y_prob)\n",
    "    # These are the points at threshold = 0.1~0.5\n",
    "    x1 = fpr[(thresh <= 0.5) & (thresh >= 0.1)] \n",
    "    x2 = tpr[(thresh <= 0.5) & (thresh >= 0.1)]\n",
    "    fig = plt.figure()\n",
    "    plt.plot(fpr, tpr, color='r', lw=2)\n",
    "    plt.plot([0, 1], [0, 1], color='b', lw=2, linestyle='--')\n",
    "    plt.plot(x1, x2, color='k', lw=3, label='threshold = 0.1 ~ 0.5')\n",
    "    plt.xlim([-0.05, 1.05])\n",
    "    plt.ylim([-0.05, 1.05])\n",
    "    plt.xlabel('False Positive Rate')\n",
    "    plt.ylabel('True Positive Rate')\n",
    "    plt.title('ROC Curve (Area = {:.2f})'.format(roc_auc))\n",
    "    plt.legend(loc=\"lower right\")\n",
    "    plt.show()\n",
    "    \n",
    "#plot_ROC(X_test, y_test, y_prob_rf_rand)\n",
    "#plot_ROC(X_test, y_test, y_prob_grid_sgdlr)\n",
    "#plot_ROC(X_test, y_test, y_prob_knn)\n",
    "#plot_ROC(X_test, y_test, y_prob_svm_grid)"
   ]
  },
  {
   "cell_type": "code",
   "execution_count": 46,
   "metadata": {},
   "outputs": [],
   "source": [
    "def plotAUC(y_test, y_prob, label_name):\n",
    "    fpr, tpr, _ = roc_curve(y_test, y_prob)\n",
    "    roc_auc = auc(fpr, tpr)\n",
    "    lw = 1\n",
    "    c = (np.random.rand(), np.random.rand(), np.random.rand())\n",
    "    plt.plot([0, 1], [0, 1], color='navy', lw=lw, linestyle='--')\n",
    "    plt.plot(fpr, tpr, color= c, lw=lw, label= label_name +'(AUC=%0.2f)' % roc_auc)    \n",
    "    plt.xlim([0.0, 1.0])\n",
    "    plt.ylim([0.0, 1.0])\n",
    "    plt.xlabel('False Positive Rate')\n",
    "    plt.ylabel('True Positive Rate')\n",
    "    plt.title('ROC curve') \n",
    "    plt.legend(loc=\"lower right\")"
   ]
  },
  {
   "cell_type": "code",
   "execution_count": 47,
   "metadata": {},
   "outputs": [
    {
     "data": {
      "image/png": "[encoded data removed]",
      "text/plain": [
       "<Figure size 432x288 with 1 Axes>"
      ]
     },
     "metadata": {
      "needs_background": "light"
     },
     "output_type": "display_data"
    }
   ],
   "source": [
    "plotAUC(y_test, y_prob_rf_rand, 'Rand Forest') #Random Forest\n",
    "plotAUC(y_test, y_prob_grid_sgdlr, 'SGD') #SGD\n",
    "plotAUC(y_test, y_prob_knn, 'KNN' ) # KNN\n",
    "plotAUC(y_test, y_prob_svm_grid, 'SVM') # SVM \n",
    "plt.show()"
   ]
  },
  {
   "cell_type": "code",
   "execution_count": 54,
   "metadata": {},
   "outputs": [],
   "source": [
    "import itertools\n",
    "from sklearn.metrics import confusion_matrix\n",
    "def plot_confusion_matrix(model, normalize=False): # This function prints and plots the confusion matrix.\n",
    "    cm = confusion_matrix(y_test, model, labels=[0, 1])\n",
    "    classes=[\"Will Pay\", \"Will Default\"]\n",
    "    cmap = plt.cm.Blues\n",
    "    title = \"Confusion Matrix\"\n",
    "    if normalize:\n",
    "        cm = cm.astype('float') / cm.sum(axis=1)[:, np.newaxis]\n",
    "        cm = np.around(cm, decimals=3)\n",
    "    plt.imshow(cm, interpolation='nearest', cmap=cmap)\n",
    "    plt.title(title)\n",
    "    plt.colorbar()\n",
    "    tick_marks = np.arange(len(classes))\n",
    "    plt.xticks(tick_marks, classes, rotation=45)\n",
    "    plt.yticks(tick_marks, classes)\n",
    "    thresh = cm.max() / 2.\n",
    "    for i, j in itertools.product(range(cm.shape[0]), range(cm.shape[1])):\n",
    "        plt.text(j, i, cm[i, j],\n",
    "                 horizontalalignment=\"center\",\n",
    "                 color=\"white\" if cm[i, j] > thresh else \"black\")\n",
    "    plt.tight_layout()\n",
    "    plt.ylabel('True label')\n",
    "    plt.xlabel('Predicted label')"
   ]
  },
  {
   "cell_type": "code",
   "execution_count": 67,
   "metadata": {},
   "outputs": [
    {
     "data": {
      "image/png": "[encoded data removed]",
      "text/plain": [
       "<Figure size 432x288 with 2 Axes>"
      ]
     },
     "metadata": {
      "needs_background": "light"
     },
     "output_type": "display_data"
    }
   ],
   "source": [
    "# Confusion Matrix\n",
    "plot_confusion_matrix(y_pred_rf_rand, normalize=True)"
   ]
  },
  {
   "cell_type": "code",
   "execution_count": 63,
   "metadata": {},
   "outputs": [
    {
     "data": {
      "image/png": "[encoded data removed]",
      "text/plain": [
       "<Figure size 432x288 with 2 Axes>"
      ]
     },
     "metadata": {
      "needs_background": "light"
     },
     "output_type": "display_data"
    }
   ],
   "source": [
    "plot_confusion_matrix(y_pred_grid_sgdlr, normalize=True)"
   ]
  },
  {
   "cell_type": "code",
   "execution_count": 69,
   "metadata": {},
   "outputs": [
    {
     "data": {
      "image/png": "[encoded data removed]",
      "text/plain": [
       "<Figure size 432x288 with 2 Axes>"
      ]
     },
     "metadata": {
      "needs_background": "light"
     },
     "output_type": "display_data"
    }
   ],
   "source": [
    "plot_confusion_matrix(y_pred_knn, normalize=True)"
   ]
  },
  {
   "cell_type": "code",
   "execution_count": 70,
   "metadata": {},
   "outputs": [
    {
     "data": {
      "image/png": "[encoded data removed]",
      "text/plain": [
       "<Figure size 432x288 with 2 Axes>"
      ]
     },
     "metadata": {
      "needs_background": "light"
     },
     "output_type": "display_data"
    }
   ],
   "source": [
    "plot_confusion_matrix(y_pred_svm_grid, normalize=True)"
   ]
  },
  {
   "cell_type": "code",
   "execution_count": 77,
   "metadata": {},
   "outputs": [
    {
     "name": "stdout",
     "output_type": "stream",
     "text": [
      "RF               precision    recall  f1-score   support\n",
      "\n",
      "           0       0.84      0.97      0.90       872\n",
      "           1       0.52      0.13      0.21       193\n",
      "\n",
      "    accuracy                           0.82      1065\n",
      "   macro avg       0.68      0.55      0.56      1065\n",
      "weighted avg       0.78      0.82      0.77      1065\n",
      "\n",
      "\n",
      "SGD               precision    recall  f1-score   support\n",
      "\n",
      "           0       0.83      0.99      0.90       872\n",
      "           1       0.72      0.07      0.12       193\n",
      "\n",
      "    accuracy                           0.83      1065\n",
      "   macro avg       0.78      0.53      0.51      1065\n",
      "weighted avg       0.81      0.83      0.76      1065\n",
      "\n",
      "\n",
      "KNN               precision    recall  f1-score   support\n",
      "\n",
      "           0       0.82      1.00      0.90       872\n",
      "           1       1.00      0.01      0.01       193\n",
      "\n",
      "    accuracy                           0.82      1065\n",
      "   macro avg       0.91      0.50      0.46      1065\n",
      "weighted avg       0.85      0.82      0.74      1065\n",
      "\n",
      "\n",
      "SVM               precision    recall  f1-score   support\n",
      "\n",
      "           0       0.82      1.00      0.90       872\n",
      "           1       0.00      0.00      0.00       193\n",
      "\n",
      "    accuracy                           0.82      1065\n",
      "   macro avg       0.41      0.50      0.45      1065\n",
      "weighted avg       0.67      0.82      0.74      1065\n",
      "\n"
     ]
    }
   ],
   "source": [
    "# Classification Report: Precision, recall, F1score for all models\n",
    "from sklearn.metrics import classification_report\n",
    "print(\"RF\",classification_report(y_test, y_pred_rf_rand, target_names=None))\n",
    "print(\"\\nSGD\",classification_report(y_test, y_pred_grid_sgdlr, target_names=None))\n",
    "print(\"\\nKNN\",classification_report(y_test, y_pred_knn, target_names=None))\n",
    "print(\"\\nSVM\",classification_report(y_test, y_pred_svm_grid, target_names=None))"
   ]
  },
  {
   "cell_type": "code",
   "execution_count": 93,
   "metadata": {},
   "outputs": [
    {
     "name": "stdout",
     "output_type": "stream",
     "text": [
      "The bank scores 679 points\n",
      "The Logistic regression model scores 687 points\n"
     ]
    }
   ],
   "source": [
    "# In order to compare the profitability of the model and the profitability the bank actually makes (for the test set), we assume:\n",
    "# If the loan is granted and the it doesn't get repaid, we lose 1 (y_test = 0 means no default, y_test = 1 means customer defaulted)\n",
    "# If the loan is granted and the it does get repaid, we gain 1\n",
    "# If the loan is not granted, gain is 0\n",
    "\n",
    "bank_score = sum(y_test==0) - sum(y_test==1)  #Bank score = Customer No default - Customer default\n",
    "\n",
    "# I will pick SGD Logistic Model because it has the highest ROC_AUC and Accuracy scores compared to other models we have above\n",
    "tn, fp, fn, tp = confusion_matrix(y_test, y_pred_grid_sgdlr).ravel()\n",
    "score_lr = tn - fn\n",
    "\n",
    "print(\"The bank scores {} points\".format(bank_score))\n",
    "print(\"The Logistic regression model scores {} points\".format(score_lr))"
   ]
  },
  {
   "cell_type": "code",
   "execution_count": null,
   "metadata": {},
   "outputs": [],
   "source": [
    "# Conclusion: \n",
    "# Model Selected\n",
    "# After training with 4 models, SGD Logistic Regression Model has the highest Accuracy as well as ROC_AUC score \n",
    "\n",
    "#Features Selected\n",
    "# After applying different feaure selection methodologies like Pearson Correlation, Fstat, Pvalue, Random Forest RFE, SGD RFE ranking\n",
    "# The most important features for prediction are: Interest Rate, Term, debt-to-income ratio (dti), FICO score and Revolver balance (revol_bal)."
   ]
  },
  {
   "cell_type": "code",
   "execution_count": null,
   "metadata": {},
   "outputs": [],
   "source": []
  },
  {
   "cell_type": "code",
   "execution_count": null,
   "metadata": {},
   "outputs": [],
   "source": []
  }
 ],
 "metadata": {
  "kernelspec": {
   "display_name": "Python 3",
   "language": "python",
   "name": "python3"
  },
  "language_info": {
   "codemirror_mode": {
    "name": "ipython",
    "version": 3
   },
   "file_extension": ".py",
   "mimetype": "text/x-python",
   "name": "python",
   "nbconvert_exporter": "python",
   "pygments_lexer": "ipython3",
   "version": "3.7.3"
  }
 },
 "nbformat": 4,
 "nbformat_minor": 4
}
